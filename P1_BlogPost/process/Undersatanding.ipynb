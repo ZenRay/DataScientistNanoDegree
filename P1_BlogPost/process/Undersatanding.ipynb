{
 "cells": [
  {
   "cell_type": "markdown",
   "metadata": {},
   "source": [
    "## Table Of Contents\n",
    "\n",
    "* [Business Understanding](#business)\n",
    "* [Data Understanding](#data)\n",
    "* [Preparing Data](#preparing)\n",
    "* [Data Model](#model)"
   ]
  },
  {
   "cell_type": "code",
   "execution_count": 1,
   "metadata": {},
   "outputs": [],
   "source": [
    "import pandas as pd\n",
    "import numpy as np\n",
    "import zipfile\n",
    "from matplotlib import pyplot as plt\n",
    "import  matplotlib\n",
    "from IPython import display\n",
    "import seaborn as sns\n",
    "import warnings\n",
    "from sklearn import neighbors\n",
    "from sklearn.model_selection import train_test_split\n",
    "from sklearn.tree import DecisionTreeClassifier, DecisionTreeRegressor\n",
    "from sklearn.ensemble import RandomForestClassifier, GradientBoostingClassifier, AdaBoostClassifier, RandomForestRegressor\n",
    "from sklearn import linear_model\n",
    "from sklearn.naive_bayes import GaussianNB, MultinomialNB\n",
    "from sklearn.model_selection import GridSearchCV,train_test_split, ShuffleSplit\n",
    "from sklearn.metrics import r2_score, mean_squared_error, make_scorer\n",
    "from sklearn.decomposition import PCA\n",
    "from sklearn.linear_model import Ridge, LinearRegression\n",
    "from sklearn.feature_selection import SelectPercentile, f_regression\n",
    "\n",
    "import re\n",
    "\n",
    "import sys\n",
    "\n",
    "sys.path.append(\"../tool/\")\n",
    "\n",
    "import preprocess"
   ]
  },
  {
   "cell_type": "markdown",
   "metadata": {},
   "source": [
    "<a id=\"business\"></a>\n",
    "\n",
    "## $\\rm I.$ Business Understanding"
   ]
  },
  {
   "cell_type": "markdown",
   "metadata": {},
   "source": [
    "Since time goes in 21 century, sharing economy is more and more prosper. So many private host' properties rent to another travler, so that they will make the rent.They take a step into the hotel industry.As a traveler, there are more option taken into account.\n",
    "\n",
    "Now, the Airbnb operates the online marketplace and hospitality service which is accessible via the web or mobile application. The hosts provide their rental information or listing, like price deteminded by the host. At the same time, the guests can search information by using filter such as type, date and price, which make a reservation. Futhermore, the hosts and the guests can give a rating for each other after a stay. The review system have an effect about the guests decision and the hosts income.\n",
    "\n",
    "I'll use the seatle dataset from the Airbab to analysis the main question that how to choose a cheap and cheerfull accommodation in seatle by using a good filter to select accomadate:\n",
    "\n",
    "1. What is the priority of property type\n",
    "2. Amenities Effect\n",
    "\n",
    "    2.1 How do amenities and property type affect the price\n",
    "    \n",
    "    2.2 How do amenities and property type affect the review\n",
    "3. What can promote an accommodation reservation"
   ]
  },
  {
   "cell_type": "markdown",
   "metadata": {},
   "source": [
    "<a id=\"data\"></a>\n",
    "## $\\rm II.$ Data Understanding"
   ]
  },
  {
   "cell_type": "markdown",
   "metadata": {},
   "source": [
    "Fist step is business understanding. Now I dive into the data understanding step. First of all, access data is my priority."
   ]
  },
  {
   "cell_type": "code",
   "execution_count": 2,
   "metadata": {},
   "outputs": [],
   "source": [
    "df = pd.read_csv(\"../data/seattle/listings.csv\")"
   ]
  },
  {
   "cell_type": "code",
   "execution_count": 3,
   "metadata": {},
   "outputs": [
    {
     "data": {
      "text/html": [
       "<div>\n",
       "<style scoped>\n",
       "    .dataframe tbody tr th:only-of-type {\n",
       "        vertical-align: middle;\n",
       "    }\n",
       "\n",
       "    .dataframe tbody tr th {\n",
       "        vertical-align: top;\n",
       "    }\n",
       "\n",
       "    .dataframe thead th {\n",
       "        text-align: right;\n",
       "    }\n",
       "</style>\n",
       "<table border=\"1\" class=\"dataframe\">\n",
       "  <thead>\n",
       "    <tr style=\"text-align: right;\">\n",
       "      <th></th>\n",
       "      <th>id</th>\n",
       "      <th>listing_url</th>\n",
       "      <th>scrape_id</th>\n",
       "      <th>last_scraped</th>\n",
       "      <th>name</th>\n",
       "      <th>summary</th>\n",
       "      <th>space</th>\n",
       "      <th>description</th>\n",
       "      <th>experiences_offered</th>\n",
       "      <th>neighborhood_overview</th>\n",
       "      <th>...</th>\n",
       "      <th>review_scores_value</th>\n",
       "      <th>requires_license</th>\n",
       "      <th>license</th>\n",
       "      <th>jurisdiction_names</th>\n",
       "      <th>instant_bookable</th>\n",
       "      <th>cancellation_policy</th>\n",
       "      <th>require_guest_profile_picture</th>\n",
       "      <th>require_guest_phone_verification</th>\n",
       "      <th>calculated_host_listings_count</th>\n",
       "      <th>reviews_per_month</th>\n",
       "    </tr>\n",
       "  </thead>\n",
       "  <tbody>\n",
       "    <tr>\n",
       "      <th>0</th>\n",
       "      <td>241032</td>\n",
       "      <td>https://www.airbnb.com/rooms/241032</td>\n",
       "      <td>20160104002432</td>\n",
       "      <td>2016-01-04</td>\n",
       "      <td>Stylish Queen Anne Apartment</td>\n",
       "      <td>NaN</td>\n",
       "      <td>Make your self at home in this charming one-be...</td>\n",
       "      <td>Make your self at home in this charming one-be...</td>\n",
       "      <td>none</td>\n",
       "      <td>NaN</td>\n",
       "      <td>...</td>\n",
       "      <td>10.0</td>\n",
       "      <td>f</td>\n",
       "      <td>NaN</td>\n",
       "      <td>WASHINGTON</td>\n",
       "      <td>f</td>\n",
       "      <td>moderate</td>\n",
       "      <td>f</td>\n",
       "      <td>f</td>\n",
       "      <td>2</td>\n",
       "      <td>4.07</td>\n",
       "    </tr>\n",
       "    <tr>\n",
       "      <th>1</th>\n",
       "      <td>953595</td>\n",
       "      <td>https://www.airbnb.com/rooms/953595</td>\n",
       "      <td>20160104002432</td>\n",
       "      <td>2016-01-04</td>\n",
       "      <td>Bright &amp; Airy Queen Anne Apartment</td>\n",
       "      <td>Chemically sensitive? We've removed the irrita...</td>\n",
       "      <td>Beautiful, hypoallergenic apartment in an extr...</td>\n",
       "      <td>Chemically sensitive? We've removed the irrita...</td>\n",
       "      <td>none</td>\n",
       "      <td>Queen Anne is a wonderful, truly functional vi...</td>\n",
       "      <td>...</td>\n",
       "      <td>10.0</td>\n",
       "      <td>f</td>\n",
       "      <td>NaN</td>\n",
       "      <td>WASHINGTON</td>\n",
       "      <td>f</td>\n",
       "      <td>strict</td>\n",
       "      <td>t</td>\n",
       "      <td>t</td>\n",
       "      <td>6</td>\n",
       "      <td>1.48</td>\n",
       "    </tr>\n",
       "    <tr>\n",
       "      <th>2</th>\n",
       "      <td>3308979</td>\n",
       "      <td>https://www.airbnb.com/rooms/3308979</td>\n",
       "      <td>20160104002432</td>\n",
       "      <td>2016-01-04</td>\n",
       "      <td>New Modern House-Amazing water view</td>\n",
       "      <td>New modern house built in 2013.  Spectacular s...</td>\n",
       "      <td>Our house is modern, light and fresh with a wa...</td>\n",
       "      <td>New modern house built in 2013.  Spectacular s...</td>\n",
       "      <td>none</td>\n",
       "      <td>Upper Queen Anne is a charming neighborhood fu...</td>\n",
       "      <td>...</td>\n",
       "      <td>10.0</td>\n",
       "      <td>f</td>\n",
       "      <td>NaN</td>\n",
       "      <td>WASHINGTON</td>\n",
       "      <td>f</td>\n",
       "      <td>strict</td>\n",
       "      <td>f</td>\n",
       "      <td>f</td>\n",
       "      <td>2</td>\n",
       "      <td>1.15</td>\n",
       "    </tr>\n",
       "    <tr>\n",
       "      <th>3</th>\n",
       "      <td>7421966</td>\n",
       "      <td>https://www.airbnb.com/rooms/7421966</td>\n",
       "      <td>20160104002432</td>\n",
       "      <td>2016-01-04</td>\n",
       "      <td>Queen Anne Chateau</td>\n",
       "      <td>A charming apartment that sits atop Queen Anne...</td>\n",
       "      <td>NaN</td>\n",
       "      <td>A charming apartment that sits atop Queen Anne...</td>\n",
       "      <td>none</td>\n",
       "      <td>NaN</td>\n",
       "      <td>...</td>\n",
       "      <td>NaN</td>\n",
       "      <td>f</td>\n",
       "      <td>NaN</td>\n",
       "      <td>WASHINGTON</td>\n",
       "      <td>f</td>\n",
       "      <td>flexible</td>\n",
       "      <td>f</td>\n",
       "      <td>f</td>\n",
       "      <td>1</td>\n",
       "      <td>NaN</td>\n",
       "    </tr>\n",
       "    <tr>\n",
       "      <th>4</th>\n",
       "      <td>278830</td>\n",
       "      <td>https://www.airbnb.com/rooms/278830</td>\n",
       "      <td>20160104002432</td>\n",
       "      <td>2016-01-04</td>\n",
       "      <td>Charming craftsman 3 bdm house</td>\n",
       "      <td>Cozy family craftman house in beautiful neighb...</td>\n",
       "      <td>Cozy family craftman house in beautiful neighb...</td>\n",
       "      <td>Cozy family craftman house in beautiful neighb...</td>\n",
       "      <td>none</td>\n",
       "      <td>We are in the beautiful neighborhood of Queen ...</td>\n",
       "      <td>...</td>\n",
       "      <td>9.0</td>\n",
       "      <td>f</td>\n",
       "      <td>NaN</td>\n",
       "      <td>WASHINGTON</td>\n",
       "      <td>f</td>\n",
       "      <td>strict</td>\n",
       "      <td>f</td>\n",
       "      <td>f</td>\n",
       "      <td>1</td>\n",
       "      <td>0.89</td>\n",
       "    </tr>\n",
       "  </tbody>\n",
       "</table>\n",
       "<p>5 rows × 92 columns</p>\n",
       "</div>"
      ],
      "text/plain": [
       "        id                           listing_url       scrape_id last_scraped  \\\n",
       "0   241032   https://www.airbnb.com/rooms/241032  20160104002432   2016-01-04   \n",
       "1   953595   https://www.airbnb.com/rooms/953595  20160104002432   2016-01-04   \n",
       "2  3308979  https://www.airbnb.com/rooms/3308979  20160104002432   2016-01-04   \n",
       "3  7421966  https://www.airbnb.com/rooms/7421966  20160104002432   2016-01-04   \n",
       "4   278830   https://www.airbnb.com/rooms/278830  20160104002432   2016-01-04   \n",
       "\n",
       "                                  name  \\\n",
       "0         Stylish Queen Anne Apartment   \n",
       "1   Bright & Airy Queen Anne Apartment   \n",
       "2  New Modern House-Amazing water view   \n",
       "3                   Queen Anne Chateau   \n",
       "4       Charming craftsman 3 bdm house   \n",
       "\n",
       "                                             summary  \\\n",
       "0                                                NaN   \n",
       "1  Chemically sensitive? We've removed the irrita...   \n",
       "2  New modern house built in 2013.  Spectacular s...   \n",
       "3  A charming apartment that sits atop Queen Anne...   \n",
       "4  Cozy family craftman house in beautiful neighb...   \n",
       "\n",
       "                                               space  \\\n",
       "0  Make your self at home in this charming one-be...   \n",
       "1  Beautiful, hypoallergenic apartment in an extr...   \n",
       "2  Our house is modern, light and fresh with a wa...   \n",
       "3                                                NaN   \n",
       "4  Cozy family craftman house in beautiful neighb...   \n",
       "\n",
       "                                         description experiences_offered  \\\n",
       "0  Make your self at home in this charming one-be...                none   \n",
       "1  Chemically sensitive? We've removed the irrita...                none   \n",
       "2  New modern house built in 2013.  Spectacular s...                none   \n",
       "3  A charming apartment that sits atop Queen Anne...                none   \n",
       "4  Cozy family craftman house in beautiful neighb...                none   \n",
       "\n",
       "                               neighborhood_overview        ...         \\\n",
       "0                                                NaN        ...          \n",
       "1  Queen Anne is a wonderful, truly functional vi...        ...          \n",
       "2  Upper Queen Anne is a charming neighborhood fu...        ...          \n",
       "3                                                NaN        ...          \n",
       "4  We are in the beautiful neighborhood of Queen ...        ...          \n",
       "\n",
       "  review_scores_value requires_license license jurisdiction_names  \\\n",
       "0                10.0                f     NaN         WASHINGTON   \n",
       "1                10.0                f     NaN         WASHINGTON   \n",
       "2                10.0                f     NaN         WASHINGTON   \n",
       "3                 NaN                f     NaN         WASHINGTON   \n",
       "4                 9.0                f     NaN         WASHINGTON   \n",
       "\n",
       "  instant_bookable cancellation_policy  require_guest_profile_picture  \\\n",
       "0                f            moderate                              f   \n",
       "1                f              strict                              t   \n",
       "2                f              strict                              f   \n",
       "3                f            flexible                              f   \n",
       "4                f              strict                              f   \n",
       "\n",
       "  require_guest_phone_verification calculated_host_listings_count  \\\n",
       "0                                f                              2   \n",
       "1                                t                              6   \n",
       "2                                f                              2   \n",
       "3                                f                              1   \n",
       "4                                f                              1   \n",
       "\n",
       "  reviews_per_month  \n",
       "0              4.07  \n",
       "1              1.48  \n",
       "2              1.15  \n",
       "3               NaN  \n",
       "4              0.89  \n",
       "\n",
       "[5 rows x 92 columns]"
      ]
     },
     "execution_count": 3,
     "metadata": {},
     "output_type": "execute_result"
    }
   ],
   "source": [
    "df.head()"
   ]
  },
  {
   "cell_type": "code",
   "execution_count": 4,
   "metadata": {
    "scrolled": false
   },
   "outputs": [
    {
     "name": "stdout",
     "output_type": "stream",
     "text": [
      "<class 'pandas.core.frame.DataFrame'>\n",
      "RangeIndex: 3818 entries, 0 to 3817\n",
      "Data columns (total 92 columns):\n",
      "id                                  3818 non-null int64\n",
      "listing_url                         3818 non-null object\n",
      "scrape_id                           3818 non-null int64\n",
      "last_scraped                        3818 non-null object\n",
      "name                                3818 non-null object\n",
      "summary                             3641 non-null object\n",
      "space                               3249 non-null object\n",
      "description                         3818 non-null object\n",
      "experiences_offered                 3818 non-null object\n",
      "neighborhood_overview               2786 non-null object\n",
      "notes                               2212 non-null object\n",
      "transit                             2884 non-null object\n",
      "thumbnail_url                       3498 non-null object\n",
      "medium_url                          3498 non-null object\n",
      "picture_url                         3818 non-null object\n",
      "xl_picture_url                      3498 non-null object\n",
      "host_id                             3818 non-null int64\n",
      "host_url                            3818 non-null object\n",
      "host_name                           3816 non-null object\n",
      "host_since                          3816 non-null object\n",
      "host_location                       3810 non-null object\n",
      "host_about                          2959 non-null object\n",
      "host_response_time                  3295 non-null object\n",
      "host_response_rate                  3295 non-null object\n",
      "host_acceptance_rate                3045 non-null object\n",
      "host_is_superhost                   3816 non-null object\n",
      "host_thumbnail_url                  3816 non-null object\n",
      "host_picture_url                    3816 non-null object\n",
      "host_neighbourhood                  3518 non-null object\n",
      "host_listings_count                 3816 non-null float64\n",
      "host_total_listings_count           3816 non-null float64\n",
      "host_verifications                  3818 non-null object\n",
      "host_has_profile_pic                3816 non-null object\n",
      "host_identity_verified              3816 non-null object\n",
      "street                              3818 non-null object\n",
      "neighbourhood                       3402 non-null object\n",
      "neighbourhood_cleansed              3818 non-null object\n",
      "neighbourhood_group_cleansed        3818 non-null object\n",
      "city                                3818 non-null object\n",
      "state                               3818 non-null object\n",
      "zipcode                             3811 non-null object\n",
      "market                              3818 non-null object\n",
      "smart_location                      3818 non-null object\n",
      "country_code                        3818 non-null object\n",
      "country                             3818 non-null object\n",
      "latitude                            3818 non-null float64\n",
      "longitude                           3818 non-null float64\n",
      "is_location_exact                   3818 non-null object\n",
      "property_type                       3817 non-null object\n",
      "room_type                           3818 non-null object\n",
      "accommodates                        3818 non-null int64\n",
      "bathrooms                           3802 non-null float64\n",
      "bedrooms                            3812 non-null float64\n",
      "beds                                3817 non-null float64\n",
      "bed_type                            3818 non-null object\n",
      "amenities                           3818 non-null object\n",
      "square_feet                         97 non-null float64\n",
      "price                               3818 non-null object\n",
      "weekly_price                        2009 non-null object\n",
      "monthly_price                       1517 non-null object\n",
      "security_deposit                    1866 non-null object\n",
      "cleaning_fee                        2788 non-null object\n",
      "guests_included                     3818 non-null int64\n",
      "extra_people                        3818 non-null object\n",
      "minimum_nights                      3818 non-null int64\n",
      "maximum_nights                      3818 non-null int64\n",
      "calendar_updated                    3818 non-null object\n",
      "has_availability                    3818 non-null object\n",
      "availability_30                     3818 non-null int64\n",
      "availability_60                     3818 non-null int64\n",
      "availability_90                     3818 non-null int64\n",
      "availability_365                    3818 non-null int64\n",
      "calendar_last_scraped               3818 non-null object\n",
      "number_of_reviews                   3818 non-null int64\n",
      "first_review                        3191 non-null object\n",
      "last_review                         3191 non-null object\n",
      "review_scores_rating                3171 non-null float64\n",
      "review_scores_accuracy              3160 non-null float64\n",
      "review_scores_cleanliness           3165 non-null float64\n",
      "review_scores_checkin               3160 non-null float64\n",
      "review_scores_communication         3167 non-null float64\n",
      "review_scores_location              3163 non-null float64\n",
      "review_scores_value                 3162 non-null float64\n",
      "requires_license                    3818 non-null object\n",
      "license                             0 non-null float64\n",
      "jurisdiction_names                  3818 non-null object\n",
      "instant_bookable                    3818 non-null object\n",
      "cancellation_policy                 3818 non-null object\n",
      "require_guest_profile_picture       3818 non-null object\n",
      "require_guest_phone_verification    3818 non-null object\n",
      "calculated_host_listings_count      3818 non-null int64\n",
      "reviews_per_month                   3191 non-null float64\n",
      "dtypes: float64(17), int64(13), object(62)\n",
      "memory usage: 2.7+ MB\n"
     ]
    }
   ],
   "source": [
    "df.info()"
   ]
  },
  {
   "cell_type": "code",
   "execution_count": 5,
   "metadata": {},
   "outputs": [
    {
     "data": {
      "text/html": [
       "<p style='font: italic 25px Fira Sans, serif;'>         In the dataset,         <ol style='font: italic 25px Fira Sans, serif;'>             <li> row amount are <em style='color:#00ffff;'>3818</em></li>             <li> column amount are <em style='color:#00ffff;'>92</em></li>             <li> the total hosts are <em style='color:#00ffff;'>2751</em></li>         </ol>     </p>"
      ]
     },
     "metadata": {},
     "output_type": "display_data"
    }
   ],
   "source": [
    "display.display_html(\n",
    "    \"<p style='font: italic 25px Fira Sans, serif;'> \\\n",
    "        In the dataset, \\\n",
    "        <ol style='font: italic 25px Fira Sans, serif;'> \\\n",
    "            <li> row amount are <em style='color:#00ffff;'>{}</em></li> \\\n",
    "            <li> column amount are <em style='color:#00ffff;'>{}</em></li> \\\n",
    "            <li> the total hosts are <em style='color:#00ffff;'>{}</em></li> \\\n",
    "        </ol> \\\n",
    "    </p>\".format(*df.shape, df.host_id.nunique()), \n",
    "    raw=True\n",
    ")"
   ]
  },
  {
   "cell_type": "code",
   "execution_count": 6,
   "metadata": {},
   "outputs": [
    {
     "data": {
      "text/plain": [
       "f    3818\n",
       "Name: requires_license, dtype: int64"
      ]
     },
     "execution_count": 6,
     "metadata": {},
     "output_type": "execute_result"
    }
   ],
   "source": [
    "df.requires_license.value_counts()"
   ]
  },
  {
   "cell_type": "code",
   "execution_count": 7,
   "metadata": {},
   "outputs": [
    {
     "data": {
      "text/html": [
       "<div>\n",
       "<style scoped>\n",
       "    .dataframe tbody tr th:only-of-type {\n",
       "        vertical-align: middle;\n",
       "    }\n",
       "\n",
       "    .dataframe tbody tr th {\n",
       "        vertical-align: top;\n",
       "    }\n",
       "\n",
       "    .dataframe thead th {\n",
       "        text-align: right;\n",
       "    }\n",
       "</style>\n",
       "<table border=\"1\" class=\"dataframe\">\n",
       "  <thead>\n",
       "    <tr style=\"text-align: right;\">\n",
       "      <th></th>\n",
       "      <th>review_scores_rating</th>\n",
       "      <th>review_scores_accuracy</th>\n",
       "      <th>review_scores_cleanliness</th>\n",
       "      <th>review_scores_checkin</th>\n",
       "      <th>review_scores_communication</th>\n",
       "      <th>review_scores_location</th>\n",
       "      <th>review_scores_value</th>\n",
       "    </tr>\n",
       "  </thead>\n",
       "  <tbody>\n",
       "    <tr>\n",
       "      <th>0</th>\n",
       "      <td>95.0</td>\n",
       "      <td>10.0</td>\n",
       "      <td>10.0</td>\n",
       "      <td>10.0</td>\n",
       "      <td>10.0</td>\n",
       "      <td>9.0</td>\n",
       "      <td>10.0</td>\n",
       "    </tr>\n",
       "    <tr>\n",
       "      <th>1</th>\n",
       "      <td>96.0</td>\n",
       "      <td>10.0</td>\n",
       "      <td>10.0</td>\n",
       "      <td>10.0</td>\n",
       "      <td>10.0</td>\n",
       "      <td>10.0</td>\n",
       "      <td>10.0</td>\n",
       "    </tr>\n",
       "    <tr>\n",
       "      <th>2</th>\n",
       "      <td>97.0</td>\n",
       "      <td>10.0</td>\n",
       "      <td>10.0</td>\n",
       "      <td>10.0</td>\n",
       "      <td>10.0</td>\n",
       "      <td>10.0</td>\n",
       "      <td>10.0</td>\n",
       "    </tr>\n",
       "    <tr>\n",
       "      <th>3</th>\n",
       "      <td>NaN</td>\n",
       "      <td>NaN</td>\n",
       "      <td>NaN</td>\n",
       "      <td>NaN</td>\n",
       "      <td>NaN</td>\n",
       "      <td>NaN</td>\n",
       "      <td>NaN</td>\n",
       "    </tr>\n",
       "    <tr>\n",
       "      <th>4</th>\n",
       "      <td>92.0</td>\n",
       "      <td>9.0</td>\n",
       "      <td>9.0</td>\n",
       "      <td>10.0</td>\n",
       "      <td>10.0</td>\n",
       "      <td>9.0</td>\n",
       "      <td>9.0</td>\n",
       "    </tr>\n",
       "  </tbody>\n",
       "</table>\n",
       "</div>"
      ],
      "text/plain": [
       "   review_scores_rating  review_scores_accuracy  review_scores_cleanliness  \\\n",
       "0                  95.0                    10.0                       10.0   \n",
       "1                  96.0                    10.0                       10.0   \n",
       "2                  97.0                    10.0                       10.0   \n",
       "3                   NaN                     NaN                        NaN   \n",
       "4                  92.0                     9.0                        9.0   \n",
       "\n",
       "   review_scores_checkin  review_scores_communication  review_scores_location  \\\n",
       "0                   10.0                         10.0                     9.0   \n",
       "1                   10.0                         10.0                    10.0   \n",
       "2                   10.0                         10.0                    10.0   \n",
       "3                    NaN                          NaN                     NaN   \n",
       "4                   10.0                         10.0                     9.0   \n",
       "\n",
       "   review_scores_value  \n",
       "0                 10.0  \n",
       "1                 10.0  \n",
       "2                 10.0  \n",
       "3                  NaN  \n",
       "4                  9.0  "
      ]
     },
     "execution_count": 7,
     "metadata": {},
     "output_type": "execute_result"
    }
   ],
   "source": [
    "df.loc[:, df.columns.str.contains(\"score\")].head()"
   ]
  },
  {
   "cell_type": "markdown",
   "metadata": {},
   "source": [
    "### Access Data\n",
    "After loading the dataset, I'm going to access the data. There are some issues about the dataset. I'll wrangle the data at next step."
   ]
  },
  {
   "cell_type": "code",
   "execution_count": 8,
   "metadata": {},
   "outputs": [
    {
     "data": {
      "text/html": [
       "<ol style='font: italic 25px Fira Sans, serif;'>         <li> the row amount is 3818, and the fields are 92 in the dataset</li>         <li>license doesn't have non-null data, besides requires_license values are f, those are not validate value</li>         <li>square_feet almost doesn't have non-null data</li>         <li>there are too many fields unnecessary</li>         <li>price value format is not appropriate</li>         <li>amenity value contains more information</li>         <li>some information fields have missing value, like cleaning_fee</li>         <li>date is object dtype</li>     </ol>"
      ]
     },
     "metadata": {},
     "output_type": "display_data"
    }
   ],
   "source": [
    "display.display_html(\n",
    "    \"<ol style='font: italic 25px Fira Sans, serif;'> \\\n",
    "        <li> the row amount is 3818, and the fields are 92 in the dataset</li> \\\n",
    "        <li>license doesn't have non-null data, besides requires_license values are f, those are not validate value</li> \\\n",
    "        <li>square_feet almost doesn't have non-null data</li> \\\n",
    "        <li>there are too many fields unnecessary</li> \\\n",
    "        <li>price value format is not appropriate</li> \\\n",
    "        <li>amenity value contains more information</li> \\\n",
    "        <li>some information fields have missing value, like cleaning_fee</li> \\\n",
    "        <li>date is object dtype</li> \\\n",
    "    </ol>\", \n",
    "    raw=True\n",
    ")"
   ]
  },
  {
   "cell_type": "markdown",
   "metadata": {},
   "source": [
    "### Data Hypothesis\n",
    "According to data/business understanding step, I will keep the column being used. So far, I make a hypothesis that which factors push the guests' choice will be kept, for example:\n",
    "\n",
    "* review score\n",
    "* price\n",
    "* room type and bed type\n",
    "* another fee\n",
    "* operating date"
   ]
  },
  {
   "cell_type": "markdown",
   "metadata": {},
   "source": [
    "<a id=\"preparing\"></a>\n",
    "## $\\rm II.$ Preparing Data\n",
    "According to the steps data hypothesis and the data access, those issue will be done. And I choose some appropriate fields. But the next firt step, I need to fix the invalidate values."
   ]
  },
  {
   "cell_type": "markdown",
   "metadata": {},
   "source": [
    "### Data Wrangling"
   ]
  },
  {
   "cell_type": "code",
   "execution_count": 9,
   "metadata": {},
   "outputs": [
    {
     "data": {
      "image/png": "[encoded data removed]",
      "text/plain": [
       "<Figure size 360x576 with 1 Axes>"
      ]
     },
     "metadata": {
      "needs_background": "light"
     },
     "output_type": "display_data"
    }
   ],
   "source": [
    "missing_count = (df.isnull().sum() / df.shape[0] * 100).sort_values()\n",
    "missing_count = missing_count[missing_count != 0]\n",
    "missing_count.plot(kind=\"barh\", figsize=(5, 8), color=\"grey\")\n",
    "ax = plt.gca()\n",
    "\n",
    "# close the inprosper spines\n",
    "# for i in [\"top\", \"right\", \"left\"]:\n",
    "#     ax.spines[i].set_visible(False)\n",
    "\n",
    "ax.set_yticklabels(ax.get_yticklabels(), fontsize=12, family=\"monospace\")\n",
    "# plt.title(\"Top 20 Developer Ratio In Different Country\", loc=\"left\", fontsize=20)\n",
    "\n",
    "# set the xaxis format\n",
    "formater = matplotlib.ticker.FormatStrFormatter(\"%0.f%%\")\n",
    "ax.xaxis.set_major_formatter(formater)\n",
    "\n",
    "plt.show()"
   ]
  },
  {
   "cell_type": "code",
   "execution_count": 10,
   "metadata": {},
   "outputs": [
    {
     "data": {
      "text/plain": [
       "bathrooms                        0.419068\n",
       "bedrooms                         0.157150\n",
       "beds                             0.026192\n",
       "cleaning_fee                    26.977475\n",
       "first_review                    16.422211\n",
       "host_about                      22.498690\n",
       "host_acceptance_rate            20.246202\n",
       "host_has_profile_pic             0.052383\n",
       "host_identity_verified           0.052383\n",
       "host_is_superhost                0.052383\n",
       "host_listings_count              0.052383\n",
       "host_location                    0.209534\n",
       "host_name                        0.052383\n",
       "host_neighbourhood               7.857517\n",
       "host_picture_url                 0.052383\n",
       "host_response_rate              13.698271\n",
       "host_response_time              13.698271\n",
       "host_since                       0.052383\n",
       "host_thumbnail_url               0.052383\n",
       "host_total_listings_count        0.052383\n",
       "last_review                     16.422211\n",
       "license                        100.000000\n",
       "medium_url                       8.381351\n",
       "monthly_price                   60.267156\n",
       "neighborhood_overview           27.029859\n",
       "neighbourhood                   10.895757\n",
       "notes                           42.063908\n",
       "property_type                    0.026192\n",
       "review_scores_accuracy          17.234154\n",
       "review_scores_checkin           17.234154\n",
       "review_scores_cleanliness       17.103195\n",
       "review_scores_communication     17.050812\n",
       "review_scores_location          17.155579\n",
       "review_scores_rating            16.946045\n",
       "review_scores_value             17.181771\n",
       "reviews_per_month               16.422211\n",
       "security_deposit                51.126244\n",
       "space                           14.903091\n",
       "square_feet                     97.459403\n",
       "summary                          4.635935\n",
       "thumbnail_url                    8.381351\n",
       "transit                         24.463070\n",
       "weekly_price                    47.380828\n",
       "xl_picture_url                   8.381351\n",
       "zipcode                          0.183342\n",
       "dtype: float64"
      ]
     },
     "execution_count": 10,
     "metadata": {},
     "output_type": "execute_result"
    }
   ],
   "source": [
    "missing_count.sort_index()"
   ]
  },
  {
   "cell_type": "code",
   "execution_count": 11,
   "metadata": {
    "scrolled": true
   },
   "outputs": [
    {
     "data": {
      "text/html": [
       "<p style='font: italic 25px Fira Sans, serif;'>         Missing value information:         <ul style='font: italic 25px Fira Sans, serif;'>             <li>There are 45 fields that have missing values</li>             <li>The 2 fields own missing value percentage is over 90%</li>         </ul>    </p>"
      ]
     },
     "metadata": {},
     "output_type": "display_data"
    }
   ],
   "source": [
    "display.display_html(\n",
    "    \"<p style='font: italic 25px Fira Sans, serif;'> \\\n",
    "        Missing value information: \\\n",
    "        <ul style='font: italic 25px Fira Sans, serif;'> \\\n",
    "            <li>There are {} fields that have missing values</li> \\\n",
    "            <li>The {} fields own missing value percentage is over 90%</li> \\\n",
    "        </ul>\\\n",
    "    </p>\".format(len(missing_count), (missing_count > 90).sum()), \n",
    "    raw=True\n",
    ")"
   ]
  },
  {
   "cell_type": "code",
   "execution_count": 12,
   "metadata": {},
   "outputs": [],
   "source": [
    "# convert the datatype as timestamp\n",
    "columns = [\n",
    "    \"first_review\",\n",
    "    \"last_review\",\n",
    "    \"host_since\",\n",
    "    \"calendar_last_scraped\",\n",
    "    \"last_scraped\"\n",
    "]\n",
    "\n",
    "preprocess.converted_time(df, columns, True)"
   ]
  },
  {
   "cell_type": "code",
   "execution_count": 13,
   "metadata": {},
   "outputs": [],
   "source": [
    "# drop the fields own high missing value percentage\n",
    "df.drop(missing_count[missing_count > 90].index, inplace=True, axis=1)"
   ]
  },
  {
   "cell_type": "code",
   "execution_count": 14,
   "metadata": {},
   "outputs": [
    {
     "data": {
      "text/html": [
       "<div>\n",
       "<style scoped>\n",
       "    .dataframe tbody tr th:only-of-type {\n",
       "        vertical-align: middle;\n",
       "    }\n",
       "\n",
       "    .dataframe tbody tr th {\n",
       "        vertical-align: top;\n",
       "    }\n",
       "\n",
       "    .dataframe thead th {\n",
       "        text-align: right;\n",
       "    }\n",
       "</style>\n",
       "<table border=\"1\" class=\"dataframe\">\n",
       "  <thead>\n",
       "    <tr style=\"text-align: right;\">\n",
       "      <th></th>\n",
       "      <th>host_id</th>\n",
       "      <th>host_url</th>\n",
       "      <th>host_name</th>\n",
       "      <th>host_since</th>\n",
       "      <th>host_location</th>\n",
       "      <th>host_about</th>\n",
       "      <th>host_response_time</th>\n",
       "      <th>host_response_rate</th>\n",
       "      <th>host_acceptance_rate</th>\n",
       "      <th>host_is_superhost</th>\n",
       "      <th>host_thumbnail_url</th>\n",
       "      <th>host_picture_url</th>\n",
       "      <th>host_neighbourhood</th>\n",
       "      <th>host_listings_count</th>\n",
       "      <th>host_total_listings_count</th>\n",
       "      <th>host_verifications</th>\n",
       "      <th>host_has_profile_pic</th>\n",
       "      <th>host_identity_verified</th>\n",
       "      <th>calculated_host_listings_count</th>\n",
       "    </tr>\n",
       "  </thead>\n",
       "  <tbody>\n",
       "    <tr>\n",
       "      <th>1297</th>\n",
       "      <td>42515980</td>\n",
       "      <td>https://www.airbnb.com/users/show/42515980</td>\n",
       "      <td>NaN</td>\n",
       "      <td>NaT</td>\n",
       "      <td>NaN</td>\n",
       "      <td>NaN</td>\n",
       "      <td>NaN</td>\n",
       "      <td>NaN</td>\n",
       "      <td>NaN</td>\n",
       "      <td>NaN</td>\n",
       "      <td>NaN</td>\n",
       "      <td>NaN</td>\n",
       "      <td>NaN</td>\n",
       "      <td>NaN</td>\n",
       "      <td>NaN</td>\n",
       "      <td>None</td>\n",
       "      <td>NaN</td>\n",
       "      <td>NaN</td>\n",
       "      <td>1</td>\n",
       "    </tr>\n",
       "    <tr>\n",
       "      <th>1419</th>\n",
       "      <td>1075031</td>\n",
       "      <td>https://www.airbnb.com/users/show/1075031</td>\n",
       "      <td>NaN</td>\n",
       "      <td>NaT</td>\n",
       "      <td>NaN</td>\n",
       "      <td>NaN</td>\n",
       "      <td>NaN</td>\n",
       "      <td>NaN</td>\n",
       "      <td>NaN</td>\n",
       "      <td>NaN</td>\n",
       "      <td>NaN</td>\n",
       "      <td>NaN</td>\n",
       "      <td>NaN</td>\n",
       "      <td>NaN</td>\n",
       "      <td>NaN</td>\n",
       "      <td>None</td>\n",
       "      <td>NaN</td>\n",
       "      <td>NaN</td>\n",
       "      <td>1</td>\n",
       "    </tr>\n",
       "  </tbody>\n",
       "</table>\n",
       "</div>"
      ],
      "text/plain": [
       "       host_id                                    host_url host_name  \\\n",
       "1297  42515980  https://www.airbnb.com/users/show/42515980       NaN   \n",
       "1419   1075031   https://www.airbnb.com/users/show/1075031       NaN   \n",
       "\n",
       "     host_since host_location host_about host_response_time  \\\n",
       "1297        NaT           NaN        NaN                NaN   \n",
       "1419        NaT           NaN        NaN                NaN   \n",
       "\n",
       "     host_response_rate host_acceptance_rate host_is_superhost  \\\n",
       "1297                NaN                  NaN               NaN   \n",
       "1419                NaN                  NaN               NaN   \n",
       "\n",
       "     host_thumbnail_url host_picture_url host_neighbourhood  \\\n",
       "1297                NaN              NaN                NaN   \n",
       "1419                NaN              NaN                NaN   \n",
       "\n",
       "      host_listings_count  host_total_listings_count host_verifications  \\\n",
       "1297                  NaN                        NaN               None   \n",
       "1419                  NaN                        NaN               None   \n",
       "\n",
       "     host_has_profile_pic host_identity_verified  \\\n",
       "1297                  NaN                    NaN   \n",
       "1419                  NaN                    NaN   \n",
       "\n",
       "      calculated_host_listings_count  \n",
       "1297                               1  \n",
       "1419                               1  "
      ]
     },
     "execution_count": 14,
     "metadata": {},
     "output_type": "execute_result"
    }
   ],
   "source": [
    "# the data point own host information is invalidate\n",
    "df.loc[df[df.host_identity_verified.isnull()].index, df.columns[df.columns.str.contains(\"host\")]]"
   ]
  },
  {
   "cell_type": "code",
   "execution_count": 15,
   "metadata": {},
   "outputs": [],
   "source": [
    "df.drop(df[df.host_identity_verified.isnull()].index, axis=0, inplace=True)\n",
    "df.reset_index(drop=True, inplace=True)"
   ]
  },
  {
   "cell_type": "code",
   "execution_count": 16,
   "metadata": {},
   "outputs": [],
   "source": [
    "# extra the price and the cleaning_fee values from string\n",
    "columns = [\n",
    "    \"price\",\n",
    "    \"weekly_price\",\n",
    "    \"monthly_price\",\n",
    "    \"cleaning_fee\",\n",
    "    \"security_deposit\",\n",
    "    \"extra_people\"\n",
    "]\n",
    "\n",
    "preprocess.money_columns(df, columns, True)"
   ]
  },
  {
   "cell_type": "code",
   "execution_count": 17,
   "metadata": {},
   "outputs": [],
   "source": [
    "# replace the invalidate identifier in host_acceptance_rate\n",
    "df[\"host_response_rate\"] = df[\"host_response_rate\"].str.replace(\"%\", \"\").astype(\"float16\")\n",
    "df[\"host_acceptance_rate\"] = df[\"host_acceptance_rate\"].str.replace(\"%\", \"\").astype(\"float16\")"
   ]
  },
  {
   "cell_type": "code",
   "execution_count": 18,
   "metadata": {},
   "outputs": [],
   "source": [
    "# replace the invalidate identifier in host_verifications\n",
    "df[\"host_verifications\"] = df[\"host_verifications\"].str.replace(\"\\[\\]\", \"0\")\n",
    "df[\"host_verifications\"] = df[\"host_verifications\"].str.replace(\"\\[|\\]\", \"\")\n",
    "df.loc[:, \"host_verifications\"] = np.where(df[\"host_verifications\"] == \"0\", np.repeat(np.nan, df.shape[0]), df.host_verifications)"
   ]
  },
  {
   "cell_type": "code",
   "execution_count": 19,
   "metadata": {},
   "outputs": [],
   "source": [
    "# replace the invalidate identifier in amenities\n",
    "df.loc[:, \"amenities\"] = df.amenities.str.replace(\"\\{\\}\", \"0\")\n",
    "df.loc[:, \"amenities\"] = df.amenities.str.replace('\\{|\\}|\"', \"\")\n",
    "df.loc[:, \"amenities\"] = np.where(df.amenities == \"0\", np.repeat(np.nan, df.shape[0]), df.amenities)"
   ]
  },
  {
   "cell_type": "code",
   "execution_count": 20,
   "metadata": {},
   "outputs": [],
   "source": [
    "# https://www.airbnb.cn/help/article/828/what-is-a-superhost?ibbe=0\n",
    "# convert the values which are boolean\n",
    "columns = [\n",
    "    \"require_guest_profile_picture\",\n",
    "    \"require_guest_phone_verification\",\n",
    "    \"has_availability\",\n",
    "    \"requires_license\",\n",
    "    \"instant_bookable\",\n",
    "    \"is_location_exact\",\n",
    "    \"host_is_superhost\", \n",
    "    \"host_has_profile_pic\",\n",
    "    \"host_identity_verified\"\n",
    "]\n",
    "\n",
    "df.loc[:, columns] = df.loc[:, columns].applymap(lambda x: True if x == \"t\" else False if x==\"f\" else x)"
   ]
  },
  {
   "cell_type": "markdown",
   "metadata": {},
   "source": [
    "#### Fix Timestamp Dtype\n",
    "There are some object fields wrong dtype, because those dtype should be timestamp\n",
    "\n",
    "#### Drop Invalidate Data Point\n",
    "Because the host information are all invalidate, it is not appropriate to analysis information. So I think that the fields need be droped\n",
    "\n",
    "#### Fix Wrong Idenifier\n",
    "The fields about the money own \\$ identfier, thounds seperate identifier, percentage identifier, which are wrong format. Besides, host_verifications contains \\[ and \\]. The field amenities own the identifier \\{ and \\}"
   ]
  },
  {
   "cell_type": "markdown",
   "metadata": {},
   "source": [
    "#### Parse Boolean Dtypes From Object\n",
    "The fields like require_guest_profile_picture, require_guest_phone_verification, has_availability, requires_license, instant_bookable, is_location_exact, host_is_superhost,  host_has_profile_pic, host_identity_verified are object, but value is boolean. So convert the values."
   ]
  },
  {
   "cell_type": "code",
   "execution_count": 21,
   "metadata": {},
   "outputs": [
    {
     "name": "stdout",
     "output_type": "stream",
     "text": [
      "There are not missing value fields:\n",
      " \n"
     ]
    },
    {
     "data": {
      "text/plain": [
       "Index(['bed_type', 'calendar_updated', 'cancellation_policy', 'city',\n",
       "       'country', 'country_code', 'description', 'experiences_offered',\n",
       "       'host_name', 'host_picture_url', 'host_thumbnail_url', 'host_url',\n",
       "       'jurisdiction_names', 'listing_url', 'market', 'name',\n",
       "       'neighbourhood_cleansed', 'neighbourhood_group_cleansed', 'picture_url',\n",
       "       'room_type', 'smart_location', 'state', 'street'],\n",
       "      dtype='object')"
      ]
     },
     "execution_count": 21,
     "metadata": {},
     "output_type": "execute_result"
    }
   ],
   "source": [
    "missing_category_count = df.select_dtypes(\"object\").isnull().sum()\n",
    "missing_category = missing_category_count.index[missing_category_count > 0]\n",
    "print(\"There are not missing value fields:\\n \")\n",
    "df.select_dtypes(\"object\").columns.difference(missing_category)"
   ]
  },
  {
   "cell_type": "code",
   "execution_count": 22,
   "metadata": {
    "scrolled": false
   },
   "outputs": [
    {
     "data": {
      "text/plain": [
       "Index(['summary', 'space', 'neighborhood_overview', 'notes', 'transit',\n",
       "       'thumbnail_url', 'medium_url', 'xl_picture_url', 'host_location',\n",
       "       'host_about', 'host_response_time', 'host_neighbourhood',\n",
       "       'host_verifications', 'neighbourhood', 'zipcode', 'property_type',\n",
       "       'amenities'],\n",
       "      dtype='object')"
      ]
     },
     "execution_count": 22,
     "metadata": {},
     "output_type": "execute_result"
    }
   ],
   "source": [
    "missing_category"
   ]
  },
  {
   "cell_type": "code",
   "execution_count": 23,
   "metadata": {
    "scrolled": true
   },
   "outputs": [
    {
     "data": {
      "text/plain": [
       "Entire home/apt    2539\n",
       "Private room       1160\n",
       "Shared room         117\n",
       "Name: room_type, dtype: int64"
      ]
     },
     "execution_count": 23,
     "metadata": {},
     "output_type": "execute_result"
    }
   ],
   "source": [
    "df.room_type.value_counts(dropna=False).sort_index()#.sort_values()"
   ]
  },
  {
   "cell_type": "code",
   "execution_count": 24,
   "metadata": {},
   "outputs": [],
   "source": [
    "df.loc[:, \"zipcode\"].replace(\"99\\n98122\", \"98122\", inplace=True)"
   ]
  },
  {
   "cell_type": "code",
   "execution_count": 25,
   "metadata": {},
   "outputs": [
    {
     "data": {
      "text/plain": [
       "<module 'preprocess' from '../tool/preprocess.py'>"
      ]
     },
     "execution_count": 25,
     "metadata": {},
     "output_type": "execute_result"
    }
   ],
   "source": [
    "from imp import reload\n",
    "reload(preprocess)"
   ]
  },
  {
   "cell_type": "code",
   "execution_count": 26,
   "metadata": {
    "scrolled": true
   },
   "outputs": [
    {
     "name": "stdout",
     "output_type": "stream",
     "text": [
      "The best estimater is RandomForestClassifier(bootstrap=True, class_weight=None, criterion='gini',\n",
      "            max_depth=25, max_features='auto', max_leaf_nodes=None,\n",
      "            min_impurity_decrease=0.0, min_impurity_split=None,\n",
      "            min_samples_leaf=2, min_samples_split=20,\n",
      "            min_weight_fraction_leaf=0.0, n_estimators=14, n_jobs=None,\n",
      "            oob_score=False, random_state=42, verbose=0, warm_start=False)\n",
      "The best f_0.5 score is 91.9093%\n",
      "The test f_0.5 score is 92.6509%\n"
     ]
    }
   ],
   "source": [
    "columns = [\n",
    "    \"neighbourhood_cleansed\",\n",
    "    \"neighbourhood_group_cleansed\",\n",
    "    \"longitude\",\n",
    "    \"latitude\"\n",
    "]\n",
    "algorithom = RandomForestClassifier(random_state=42)\n",
    "params = {'criterion': ['gini', 'entropy'],\n",
    "                  'n_estimators': [5, 9, 14],\n",
    "                  'max_depth': [9, 12, 20, 25],\n",
    "                  'min_samples_leaf':[2,4],\n",
    "                  'min_samples_split': [20,30,40]}\n",
    "# predict zipcode\n",
    "preprocess.predict_category_columns(df, columns, \"zipcode\", algorithom, params, cv=6)\n",
    "\n",
    "\n",
    "# convert the dtype as category\n",
    "df[\"zipcode\"] = df[\"zipcode\"].astype(\"category\")"
   ]
  },
  {
   "cell_type": "code",
   "execution_count": 27,
   "metadata": {},
   "outputs": [
    {
     "name": "stdout",
     "output_type": "stream",
     "text": [
      "The best estimater is RandomForestClassifier(bootstrap=True, class_weight=None, criterion='gini',\n",
      "            max_depth=25, max_features='auto', max_leaf_nodes=None,\n",
      "            min_impurity_decrease=0.0, min_impurity_split=None,\n",
      "            min_samples_leaf=2, min_samples_split=20,\n",
      "            min_weight_fraction_leaf=0.0, n_estimators=14, n_jobs=None,\n",
      "            oob_score=False, random_state=42, verbose=0, warm_start=False)\n",
      "The best f_0.5 score is 91.8400%\n",
      "The test f_0.5 score is 92.3529%\n",
      "The best estimater is RandomForestClassifier(bootstrap=True, class_weight=None, criterion='gini',\n",
      "            max_depth=25, max_features='auto', max_leaf_nodes=None,\n",
      "            min_impurity_decrease=0.0, min_impurity_split=None,\n",
      "            min_samples_leaf=2, min_samples_split=20,\n",
      "            min_weight_fraction_leaf=0.0, n_estimators=14, n_jobs=None,\n",
      "            oob_score=False, random_state=42, verbose=0, warm_start=False)\n",
      "The best f_0.5 score is 84.2280%\n",
      "The test f_0.5 score is 83.6648%\n"
     ]
    }
   ],
   "source": [
    "columns = [\n",
    "    \"neighbourhood_cleansed\",\n",
    "    \"neighbourhood_group_cleansed\",\n",
    "    \"longitude\",\n",
    "    \"latitude\",\n",
    "    \"zipcode\",\n",
    "    \"price\",\n",
    "]\n",
    "# predict the neighbourhood, host_neighbourhood\n",
    "target_columns = [\"neighbourhood\", \"host_neighbourhood\"]\n",
    "\n",
    "preprocess.predict_category_columns(df, columns, target_columns, algorithom, params, cv=6)"
   ]
  },
  {
   "cell_type": "code",
   "execution_count": 28,
   "metadata": {},
   "outputs": [
    {
     "name": "stdout",
     "output_type": "stream",
     "text": [
      "The best estimater is RandomForestClassifier(bootstrap=True, class_weight=None, criterion='gini',\n",
      "            max_depth=20, max_features='auto', max_leaf_nodes=None,\n",
      "            min_impurity_decrease=0.0, min_impurity_split=None,\n",
      "            min_samples_leaf=2, min_samples_split=40,\n",
      "            min_weight_fraction_leaf=0.0, n_estimators=9, n_jobs=None,\n",
      "            oob_score=False, random_state=42, verbose=0, warm_start=False)\n",
      "The best f_0.5 score is 71.4666%\n",
      "The test f_0.5 score is 71.5596%\n"
     ]
    }
   ],
   "source": [
    "columns = [\n",
    "    \"neighbourhood_cleansed\",\n",
    "    \"longitude\",\n",
    "    \"latitude\",\n",
    "    \"price\",\n",
    "    \"room_type\",\n",
    "]\n",
    "\n",
    "# predict the property_type\n",
    "preprocess.predict_category_columns(df, columns, \"property_type\", algorithom, params, cv=6)"
   ]
  },
  {
   "cell_type": "markdown",
   "metadata": {},
   "source": [
    "#### Fix Category Dtype Fileds Missing Value\n",
    "\n",
    "1. zipcode\n",
    "\n",
    "    Because zipcode is relate with geographical information and neighbour information, I use the fields to predict the missing value. Besides, the zipcode value \"99\\n98122\" must be fix a validate value. Finally, I convert the dtype as category\n",
    "    \n",
    "2. neighbourhood and host_neighbourhood\n",
    "    \n",
    "    The neighbourhood values can be parsed from some another fields, like geographical information, zipcode, rental price and others neighbour information\n",
    "    \n",
    "3. property_type\n",
    "    \n",
    "    The property_type values stands for the hosts's block type, there is one missing value. Using the location information, rental price, and host status to parse the missing value"
   ]
  },
  {
   "cell_type": "code",
   "execution_count": 29,
   "metadata": {},
   "outputs": [],
   "source": [
    "# count the amenities amount\n",
    "df[\"amenities_total\"] = df.amenities.apply(lambda x: 0 if pd.isnull(x) else len(x.split(\",\")) + 1)"
   ]
  },
  {
   "cell_type": "code",
   "execution_count": 30,
   "metadata": {},
   "outputs": [],
   "source": [
    "# parse whether the host_location is seattle\n",
    "df[\"host_seattle\"] = df.host_location.str.contains(\"Seattle|seattle\")\n",
    "df[\"host_seattle\"].fillna(False, inplace=True)"
   ]
  },
  {
   "cell_type": "code",
   "execution_count": 31,
   "metadata": {},
   "outputs": [],
   "source": [
    "# parse the host_verifications amount\n",
    "df[\"host_verifications_total\"] = df.host_verifications.apply(lambda x: 0 if pd.isnull(x) else len(x.split(\",\")) + 1)"
   ]
  },
  {
   "cell_type": "code",
   "execution_count": 32,
   "metadata": {},
   "outputs": [],
   "source": [
    "# parse the host operate period\n",
    "df[\"host_since_period\"] = (df[\"calendar_last_scraped\"] - df[\"host_since\"]).dt.days"
   ]
  },
  {
   "cell_type": "markdown",
   "metadata": {},
   "source": [
    "#### Parse Information From Fields\n",
    "\n",
    "1. amenities\n",
    "\n",
    "    There are many amenities provided by the hosts, so the amount of amenities maybe are useful. Parse the amenities information as amenities_total\n",
    "    \n",
    "2. host_location\n",
    "\n",
    "    The field can interpret whether the host is at seattle, so parse the field into host_seattle\n",
    "    \n",
    "3. host_verifications\n",
    "    \n",
    "    There are various verifications option about the hosts, so the amount of the host verifications are useful. Parse the host_verfifications as host_verifications_total\n",
    "    \n",
    "4. host_since, and calendar_last_scraped\n",
    "\n",
    "    The two fields can be used to interpret the hosts operate period, that new field is host_since_peroid\n"
   ]
  },
  {
   "cell_type": "code",
   "execution_count": 33,
   "metadata": {},
   "outputs": [
    {
     "data": {
      "text/html": [
       "<div>\n",
       "<style scoped>\n",
       "    .dataframe tbody tr th:only-of-type {\n",
       "        vertical-align: middle;\n",
       "    }\n",
       "\n",
       "    .dataframe tbody tr th {\n",
       "        vertical-align: top;\n",
       "    }\n",
       "\n",
       "    .dataframe thead th {\n",
       "        text-align: right;\n",
       "    }\n",
       "</style>\n",
       "<table border=\"1\" class=\"dataframe\">\n",
       "  <thead>\n",
       "    <tr style=\"text-align: right;\">\n",
       "      <th></th>\n",
       "      <th>bathrooms</th>\n",
       "      <th>bedrooms</th>\n",
       "      <th>beds</th>\n",
       "    </tr>\n",
       "  </thead>\n",
       "  <tbody>\n",
       "    <tr>\n",
       "      <th>1242</th>\n",
       "      <td>NaN</td>\n",
       "      <td>1.0</td>\n",
       "      <td>2.0</td>\n",
       "    </tr>\n",
       "    <tr>\n",
       "      <th>1313</th>\n",
       "      <td>NaN</td>\n",
       "      <td>1.0</td>\n",
       "      <td>2.0</td>\n",
       "    </tr>\n",
       "    <tr>\n",
       "      <th>1356</th>\n",
       "      <td>NaN</td>\n",
       "      <td>2.0</td>\n",
       "      <td>3.0</td>\n",
       "    </tr>\n",
       "    <tr>\n",
       "      <th>1377</th>\n",
       "      <td>NaN</td>\n",
       "      <td>1.0</td>\n",
       "      <td>1.0</td>\n",
       "    </tr>\n",
       "    <tr>\n",
       "      <th>1427</th>\n",
       "      <td>1.0</td>\n",
       "      <td>NaN</td>\n",
       "      <td>1.0</td>\n",
       "    </tr>\n",
       "    <tr>\n",
       "      <th>1490</th>\n",
       "      <td>1.0</td>\n",
       "      <td>NaN</td>\n",
       "      <td>1.0</td>\n",
       "    </tr>\n",
       "    <tr>\n",
       "      <th>1491</th>\n",
       "      <td>1.0</td>\n",
       "      <td>NaN</td>\n",
       "      <td>2.0</td>\n",
       "    </tr>\n",
       "    <tr>\n",
       "      <th>1851</th>\n",
       "      <td>1.0</td>\n",
       "      <td>NaN</td>\n",
       "      <td>1.0</td>\n",
       "    </tr>\n",
       "    <tr>\n",
       "      <th>1959</th>\n",
       "      <td>NaN</td>\n",
       "      <td>1.0</td>\n",
       "      <td>NaN</td>\n",
       "    </tr>\n",
       "    <tr>\n",
       "      <th>1973</th>\n",
       "      <td>NaN</td>\n",
       "      <td>1.0</td>\n",
       "      <td>1.0</td>\n",
       "    </tr>\n",
       "    <tr>\n",
       "      <th>2046</th>\n",
       "      <td>NaN</td>\n",
       "      <td>2.0</td>\n",
       "      <td>4.0</td>\n",
       "    </tr>\n",
       "    <tr>\n",
       "      <th>2094</th>\n",
       "      <td>NaN</td>\n",
       "      <td>1.0</td>\n",
       "      <td>1.0</td>\n",
       "    </tr>\n",
       "    <tr>\n",
       "      <th>2304</th>\n",
       "      <td>NaN</td>\n",
       "      <td>1.0</td>\n",
       "      <td>2.0</td>\n",
       "    </tr>\n",
       "    <tr>\n",
       "      <th>2406</th>\n",
       "      <td>NaN</td>\n",
       "      <td>1.0</td>\n",
       "      <td>1.0</td>\n",
       "    </tr>\n",
       "    <tr>\n",
       "      <th>2430</th>\n",
       "      <td>NaN</td>\n",
       "      <td>1.0</td>\n",
       "      <td>1.0</td>\n",
       "    </tr>\n",
       "    <tr>\n",
       "      <th>2435</th>\n",
       "      <td>NaN</td>\n",
       "      <td>1.0</td>\n",
       "      <td>2.0</td>\n",
       "    </tr>\n",
       "    <tr>\n",
       "      <th>2617</th>\n",
       "      <td>1.0</td>\n",
       "      <td>NaN</td>\n",
       "      <td>1.0</td>\n",
       "    </tr>\n",
       "    <tr>\n",
       "      <th>2696</th>\n",
       "      <td>NaN</td>\n",
       "      <td>1.0</td>\n",
       "      <td>1.0</td>\n",
       "    </tr>\n",
       "    <tr>\n",
       "      <th>2715</th>\n",
       "      <td>NaN</td>\n",
       "      <td>1.0</td>\n",
       "      <td>1.0</td>\n",
       "    </tr>\n",
       "    <tr>\n",
       "      <th>2913</th>\n",
       "      <td>1.0</td>\n",
       "      <td>NaN</td>\n",
       "      <td>1.0</td>\n",
       "    </tr>\n",
       "    <tr>\n",
       "      <th>2951</th>\n",
       "      <td>NaN</td>\n",
       "      <td>1.0</td>\n",
       "      <td>1.0</td>\n",
       "    </tr>\n",
       "    <tr>\n",
       "      <th>3335</th>\n",
       "      <td>NaN</td>\n",
       "      <td>2.0</td>\n",
       "      <td>1.0</td>\n",
       "    </tr>\n",
       "  </tbody>\n",
       "</table>\n",
       "</div>"
      ],
      "text/plain": [
       "      bathrooms  bedrooms  beds\n",
       "1242        NaN       1.0   2.0\n",
       "1313        NaN       1.0   2.0\n",
       "1356        NaN       2.0   3.0\n",
       "1377        NaN       1.0   1.0\n",
       "1427        1.0       NaN   1.0\n",
       "1490        1.0       NaN   1.0\n",
       "1491        1.0       NaN   2.0\n",
       "1851        1.0       NaN   1.0\n",
       "1959        NaN       1.0   NaN\n",
       "1973        NaN       1.0   1.0\n",
       "2046        NaN       2.0   4.0\n",
       "2094        NaN       1.0   1.0\n",
       "2304        NaN       1.0   2.0\n",
       "2406        NaN       1.0   1.0\n",
       "2430        NaN       1.0   1.0\n",
       "2435        NaN       1.0   2.0\n",
       "2617        1.0       NaN   1.0\n",
       "2696        NaN       1.0   1.0\n",
       "2715        NaN       1.0   1.0\n",
       "2913        1.0       NaN   1.0\n",
       "2951        NaN       1.0   1.0\n",
       "3335        NaN       2.0   1.0"
      ]
     },
     "execution_count": 33,
     "metadata": {},
     "output_type": "execute_result"
    }
   ],
   "source": [
    "df.loc[df[['bathrooms', 'bedrooms', 'beds']].isnull().any(axis=1), ['bathrooms', 'bedrooms', 'beds']]"
   ]
  },
  {
   "cell_type": "code",
   "execution_count": 34,
   "metadata": {},
   "outputs": [],
   "source": [
    "# fill the missing value in bathrooms, bedrooms, beds with 0\n",
    "df.loc[:,['bathrooms', 'bedrooms', 'beds']] = df.loc[:,['bathrooms', 'bedrooms', 'beds']].fillna(0,axis=0)"
   ]
  },
  {
   "cell_type": "code",
   "execution_count": 35,
   "metadata": {},
   "outputs": [],
   "source": [
    "# convert the price fields values\n",
    "df.loc[:, \"weekly_price\"] = np.where(df.weekly_price.isnull(), df[\"price\"] * 7, df[\"weekly_price\"])\n",
    "df.loc[:, \"monthly_price\"] = np.where(df.monthly_price.isnull(), df[\"price\"] * 30, df[\"monthly_price\"])"
   ]
  },
  {
   "cell_type": "code",
   "execution_count": 36,
   "metadata": {},
   "outputs": [
    {
     "name": "stdout",
     "output_type": "stream",
     "text": [
      "The field is review_scores_rating\n",
      "After decomposition with 10 components PCA.\n",
      "The test data r2 score is 0.1040.\n",
      "Test mse score is 43.5426.\n",
      "\n",
      "The field is reviews_per_month\n",
      "After decomposition with 10 components PCA.\n",
      "The test data r2 score is 0.5338.\n",
      "Test mse score is 1.6490.\n",
      "\n",
      "The field is cleaning_fee\n",
      "After decomposition with 10 components PCA.\n",
      "The test data r2 score is 0.5419.\n",
      "Test mse score is 1128.9618.\n",
      "\n"
     ]
    }
   ],
   "source": [
    "pred_columns = [\"review_scores_rating\", \"reviews_per_month\", \"cleaning_fee\"]\n",
    "pred_result = dict()\n",
    "\n",
    "columns = [\n",
    "    'host_identity_verified',\n",
    "    'availability_365',\n",
    "    'longitude',\n",
    "    'latitude',\n",
    "    'amenities_total',\n",
    "    'number_of_reviews',\n",
    "    'price',\n",
    "    'maximum_nights',\n",
    "    'minimum_nights',\n",
    "    'host_is_superhost',\n",
    "]\n",
    "\n",
    "pca_components = 10\n",
    "\n",
    "params = {'criterion': ['mse', 'mae'],\n",
    "                  'n_estimators': [10, 14, 20],\n",
    "                  'max_depth': [16, 20, 25, 30],\n",
    "                  'min_samples_leaf':[2,4],\n",
    "                  'min_samples_split': [20,30,40]}\n",
    "\n",
    "for pred_column in pred_columns:\n",
    "    data = df.copy()\n",
    "    algorithm = RandomForestRegressor(random_state=42, n_jobs=4)\n",
    "    new_data, new_columns, index_missing, index_train = preprocess.dummy_variables(\n",
    "        data, columns, pred_column\n",
    "    )\n",
    "    \n",
    "\n",
    "    train_X, test_X, train_y, test_y = train_test_split(\n",
    "        new_data.loc[index_train, new_columns], new_data.loc[index_train, pred_column], \n",
    "        test_size=0.2, random_state=42\n",
    "    )\n",
    "    predict_X = new_data.loc[index_missing, new_columns]\n",
    "\n",
    "\n",
    "    pca = PCA(n_components=pca_components)\n",
    "    pca.fit(train_X)\n",
    "    train_X = pca.transform(train_X)\n",
    "    test_X = pca.transform(test_X)\n",
    "    predict_X = pca.transform(predict_X)\n",
    "\n",
    "    print(\"The field is {}\".format(pred_column))\n",
    "    print(\"After decomposition with {} components PCA.\".format(pca_components))\n",
    "\n",
    "\n",
    "    # make the score metrics, basic metrics is r2 and mse\n",
    "    score = {\n",
    "         \"mse\": make_scorer(mean_squared_error, greater_is_better=False),\n",
    "        \"r2\": make_scorer(r2_score, greater_is_better=True) \n",
    "    }\n",
    "\n",
    "\n",
    "\n",
    "    algorithm = GridSearchCV(\n",
    "        algorithm, param_grid=params, scoring=score, iid=False, cv=2, refit=\"mse\"\n",
    "    )\n",
    "\n",
    "\n",
    "    algorithm.fit(train_X, train_y)\n",
    "    pred_result[pred_column] = algorithm.predict(predict_X)\n",
    "    \n",
    "    print(\"The test data r2 score is {:0.4f}.\\nTest mse score is {:0.4f}.\\n\".format(\n",
    "        r2_score(test_y, algorithm.predict(test_X)), \n",
    "        mean_squared_error(test_y, algorithm.predict(test_X)))\n",
    "    )\n",
    "    \n"
   ]
  },
  {
   "cell_type": "code",
   "execution_count": 37,
   "metadata": {},
   "outputs": [],
   "source": [
    "# fill the missing value\n",
    "pred_columns = [\"reviews_per_month\", \"cleaning_fee\"]\n",
    "for column in pred_columns:\n",
    "    df.loc[df[column].isnull(), column] = pred_result[column]"
   ]
  },
  {
   "cell_type": "code",
   "execution_count": 38,
   "metadata": {},
   "outputs": [
    {
     "data": {
      "image/png": "[encoded data removed]",
      "text/plain": [
       "<Figure size 720x720 with 9 Axes>"
      ]
     },
     "metadata": {
      "needs_background": "light"
     },
     "output_type": "display_data"
    }
   ],
   "source": [
    "pd.plotting.scatter_matrix(df[[\"host_response_rate\", \"security_deposit\",\"review_scores_rating\"]],\n",
    "                           figsize=(10, 10))\n",
    "plt.show()"
   ]
  },
  {
   "cell_type": "code",
   "execution_count": 39,
   "metadata": {},
   "outputs": [],
   "source": [
    "df[\"security_deposit\"].fillna(0, inplace=True)\n",
    "\n",
    "df.loc[:, [\"host_response_rate\",\"review_scores_rating\"]] = \\\n",
    "    df[[\"host_response_rate\",\"review_scores_rating\"]].fillna(\n",
    "        df[[\"host_response_rate\",\"review_scores_rating\"]].median()\n",
    "    )"
   ]
  },
  {
   "cell_type": "markdown",
   "metadata": {},
   "source": [
    "#### Fix Number Dtype Fileds With Missing Value\n",
    "\n",
    "1. bathrooms, bedrooms, and beds\n",
    "    \n",
    "    The three fields just count the accomadations information. Besides, there are not missing values about the bedrooms and the beds at the same time. So fill the missing values by 0\n",
    "\n",
    "2. weekly_price and monthly_price\n",
    "\n",
    "    Most of the number dtype fields are skewed. There are some fields values parsed from other fields, like monthly_price and weekly_price\n",
    "\n",
    "3. reviews_per_month, and cleaning_fee\n",
    "\n",
    "    Use the machine learning method to predict the missing value about the fields reviews_per_month, cleaning_fee, and review_score_rating. But score of fitting review_score_rating is so poor, use another strategy to predict the missing value.\n",
    "\n",
    "4. security_deposit\n",
    "\n",
    "    The field is right skewness. In the reality, maybe there are not security_deposit demanded by the hosts, so fill the missing value with 0\n",
    "    \n",
    "5. host_response_rate, and review_scores_rating\n",
    "\n",
    "    The two fields are skewness too, and they are about reviewing. Use the median value to fill in missing value"
   ]
  },
  {
   "cell_type": "markdown",
   "metadata": {},
   "source": [
    "<a id=\"model\"></a>\n",
    "## Data Model"
   ]
  },
  {
   "cell_type": "markdown",
   "metadata": {},
   "source": [
    "After accessing data information, and visualizing data(the file is [Visualization](./Visualization.ipynb)), we found some useful information:\n",
    "\n",
    "1. The House type maybe is a traveler's prior choice\n",
    "2. Set the three level amenities\n",
    "        \n",
    "   - The average price difference of the highest level amenities is lower than the lowest level, but there is negative value about the lowest level\n",
    "        \n",
    "   - The same level amenities served by the hosts are very close, but the same level amenities non-served by the hosts are apparently different\n",
    "        \n",
    "   - There is a special amenity, Doorman. Because its average difference price is the highest, and it is the lowest level amenity. I suspect that the amenity is served by the high-end hosts\n",
    "   "
   ]
  },
  {
   "cell_type": "markdown",
   "metadata": {},
   "source": [
    "Through the steps, the data is tidy. We will answer the posted questions that **What do Promote Travelers' Accommodation Reservation** by using model.Right now, we want to dive into deep discussion that how the another facters push the travelers. In order to measuer the the the travelers' accommadation arrangement we use the other label as the second target variable, the total reviews.\n",
    "\n",
    "There are so many factors affecting the travelers' choice, like price, circumstance, amenities, review context, and so on. At the same time, we can know the reversation result by the total review. Finally, we choose two label the total review to analyze the factor.\n",
    "\n",
    "### Evaluation Metrics\n",
    "The model is created as supervised machine learning, regression model. The mean squared error and r2 score to measure the model validation. After the model training, we will use the other metric to measure the final score, root mean square percentage error that is robost"
   ]
  },
  {
   "cell_type": "markdown",
   "metadata": {},
   "source": [
    "### Feature Engineer\n"
   ]
  },
  {
   "cell_type": "code",
   "execution_count": 40,
   "metadata": {},
   "outputs": [],
   "source": [
    "drop_columns = [\n",
    "    \"thumbnail_url\",\n",
    "    \"id\",\n",
    "    \"listing_url\",\n",
    "    \"scrape_id\",\n",
    "    \"last_scraped\",\n",
    "    \"name\",\n",
    "    \"summary\",\n",
    "    \"space\",\n",
    "    \"description\",\n",
    "    \"experiences_offered\",\n",
    "    \"neighborhood_overview\",\n",
    "    \"notes\",\n",
    "    \"transit\",\n",
    "    \"medium_url\",\n",
    "    \"picture_url\",\n",
    "    \"xl_picture_url\",\n",
    "    \"host_url\",\n",
    "    \"host_name\",\n",
    "    \"host_location\",\n",
    "    \"host_about\",\n",
    "    \"host_response_time\",\n",
    "    \"host_acceptance_rate\",\n",
    "    \"host_thumbnail_url\",\n",
    "    \"host_picture_url\",\n",
    "    \"host_listings_count\",\n",
    "    \"host_verifications\",\n",
    "    \"host_has_profile_pic\",\n",
    "    \"street\",\n",
    "    \"neighbourhood\",\n",
    "    \"neighbourhood_cleansed\",\n",
    "    \"city\",\n",
    "    \"state\",\n",
    "    \"market\",\n",
    "    \"smart_location\",\n",
    "    \"country_code\",\n",
    "    \"country\",\n",
    "    \"calendar_updated\",\n",
    "    \"review_scores_accuracy\",\n",
    "    \"review_scores_cleanliness\",\n",
    "    \"review_scores_checkin\",\n",
    "    \"review_scores_communication\",\n",
    "    \"review_scores_location\",\n",
    "    \"review_scores_value\",\n",
    "    \"requires_license\",\n",
    "    \"jurisdiction_names\",\n",
    "    \"require_guest_profile_picture\",\n",
    "    \"require_guest_phone_verification\",\n",
    "    \"calculated_host_listings_count\",\n",
    "    \"availability_30\",\n",
    "    \"availability_60\",\n",
    "    \"availability_90\",\n",
    "    \"host_neighbourhood\"\n",
    "]"
   ]
  },
  {
   "cell_type": "code",
   "execution_count": 41,
   "metadata": {},
   "outputs": [],
   "source": [
    "data = df.drop(drop_columns, axis=1).copy()"
   ]
  },
  {
   "cell_type": "code",
   "execution_count": 42,
   "metadata": {
    "scrolled": false
   },
   "outputs": [
    {
     "data": {
      "text/plain": [
       "amenities        45\n",
       "first_review    625\n",
       "last_review     625\n",
       "dtype: int64"
      ]
     },
     "execution_count": 42,
     "metadata": {},
     "output_type": "execute_result"
    }
   ],
   "source": [
    "data.isnull().sum().loc[data.columns[data.isnull().sum() !=0]]"
   ]
  },
  {
   "cell_type": "code",
   "execution_count": 43,
   "metadata": {},
   "outputs": [],
   "source": [
    "# parse the review days\n",
    "data[\"start_review\"] = (data[\"first_review\"] - data[\"host_since\"]).dt.days\n",
    "data[\"latest_review\"] = (data[\"calendar_last_scraped\"] - data[\"last_review\"]).dt.days"
   ]
  },
  {
   "cell_type": "code",
   "execution_count": 44,
   "metadata": {},
   "outputs": [
    {
     "data": {
      "text/html": [
       "<div>\n",
       "<style scoped>\n",
       "    .dataframe tbody tr th:only-of-type {\n",
       "        vertical-align: middle;\n",
       "    }\n",
       "\n",
       "    .dataframe tbody tr th {\n",
       "        vertical-align: top;\n",
       "    }\n",
       "\n",
       "    .dataframe thead th {\n",
       "        text-align: right;\n",
       "    }\n",
       "</style>\n",
       "<table border=\"1\" class=\"dataframe\">\n",
       "  <thead>\n",
       "    <tr style=\"text-align: right;\">\n",
       "      <th></th>\n",
       "      <th>first_review</th>\n",
       "      <th>host_since</th>\n",
       "      <th>start_review</th>\n",
       "    </tr>\n",
       "  </thead>\n",
       "  <tbody>\n",
       "    <tr>\n",
       "      <th>1991</th>\n",
       "      <td>NaT</td>\n",
       "      <td>2015-07-09</td>\n",
       "      <td>NaN</td>\n",
       "    </tr>\n",
       "    <tr>\n",
       "      <th>2767</th>\n",
       "      <td>NaT</td>\n",
       "      <td>2015-01-18</td>\n",
       "      <td>NaN</td>\n",
       "    </tr>\n",
       "    <tr>\n",
       "      <th>696</th>\n",
       "      <td>NaT</td>\n",
       "      <td>2015-07-04</td>\n",
       "      <td>NaN</td>\n",
       "    </tr>\n",
       "    <tr>\n",
       "      <th>1651</th>\n",
       "      <td>NaT</td>\n",
       "      <td>2014-09-22</td>\n",
       "      <td>NaN</td>\n",
       "    </tr>\n",
       "    <tr>\n",
       "      <th>3537</th>\n",
       "      <td>NaT</td>\n",
       "      <td>2014-01-16</td>\n",
       "      <td>NaN</td>\n",
       "    </tr>\n",
       "    <tr>\n",
       "      <th>450</th>\n",
       "      <td>NaT</td>\n",
       "      <td>2015-07-04</td>\n",
       "      <td>NaN</td>\n",
       "    </tr>\n",
       "    <tr>\n",
       "      <th>1170</th>\n",
       "      <td>NaT</td>\n",
       "      <td>2013-01-16</td>\n",
       "      <td>NaN</td>\n",
       "    </tr>\n",
       "    <tr>\n",
       "      <th>3323</th>\n",
       "      <td>NaT</td>\n",
       "      <td>2015-12-11</td>\n",
       "      <td>NaN</td>\n",
       "    </tr>\n",
       "    <tr>\n",
       "      <th>2293</th>\n",
       "      <td>NaT</td>\n",
       "      <td>2013-11-04</td>\n",
       "      <td>NaN</td>\n",
       "    </tr>\n",
       "    <tr>\n",
       "      <th>1362</th>\n",
       "      <td>2011-12-12</td>\n",
       "      <td>2013-08-18</td>\n",
       "      <td>-615.0</td>\n",
       "    </tr>\n",
       "    <tr>\n",
       "      <th>1959</th>\n",
       "      <td>NaT</td>\n",
       "      <td>2012-07-22</td>\n",
       "      <td>NaN</td>\n",
       "    </tr>\n",
       "    <tr>\n",
       "      <th>1146</th>\n",
       "      <td>NaT</td>\n",
       "      <td>2015-01-09</td>\n",
       "      <td>NaN</td>\n",
       "    </tr>\n",
       "    <tr>\n",
       "      <th>1117</th>\n",
       "      <td>NaT</td>\n",
       "      <td>2014-09-02</td>\n",
       "      <td>NaN</td>\n",
       "    </tr>\n",
       "    <tr>\n",
       "      <th>229</th>\n",
       "      <td>NaT</td>\n",
       "      <td>2014-09-21</td>\n",
       "      <td>NaN</td>\n",
       "    </tr>\n",
       "    <tr>\n",
       "      <th>1980</th>\n",
       "      <td>NaT</td>\n",
       "      <td>2015-08-26</td>\n",
       "      <td>NaN</td>\n",
       "    </tr>\n",
       "    <tr>\n",
       "      <th>1184</th>\n",
       "      <td>NaT</td>\n",
       "      <td>2012-09-19</td>\n",
       "      <td>NaN</td>\n",
       "    </tr>\n",
       "    <tr>\n",
       "      <th>1886</th>\n",
       "      <td>NaT</td>\n",
       "      <td>2015-06-03</td>\n",
       "      <td>NaN</td>\n",
       "    </tr>\n",
       "    <tr>\n",
       "      <th>809</th>\n",
       "      <td>NaT</td>\n",
       "      <td>2012-08-13</td>\n",
       "      <td>NaN</td>\n",
       "    </tr>\n",
       "    <tr>\n",
       "      <th>1855</th>\n",
       "      <td>NaT</td>\n",
       "      <td>2015-09-24</td>\n",
       "      <td>NaN</td>\n",
       "    </tr>\n",
       "    <tr>\n",
       "      <th>1814</th>\n",
       "      <td>NaT</td>\n",
       "      <td>2011-04-25</td>\n",
       "      <td>NaN</td>\n",
       "    </tr>\n",
       "  </tbody>\n",
       "</table>\n",
       "</div>"
      ],
      "text/plain": [
       "     first_review host_since  start_review\n",
       "1991          NaT 2015-07-09           NaN\n",
       "2767          NaT 2015-01-18           NaN\n",
       "696           NaT 2015-07-04           NaN\n",
       "1651          NaT 2014-09-22           NaN\n",
       "3537          NaT 2014-01-16           NaN\n",
       "450           NaT 2015-07-04           NaN\n",
       "1170          NaT 2013-01-16           NaN\n",
       "3323          NaT 2015-12-11           NaN\n",
       "2293          NaT 2013-11-04           NaN\n",
       "1362   2011-12-12 2013-08-18        -615.0\n",
       "1959          NaT 2012-07-22           NaN\n",
       "1146          NaT 2015-01-09           NaN\n",
       "1117          NaT 2014-09-02           NaN\n",
       "229           NaT 2014-09-21           NaN\n",
       "1980          NaT 2015-08-26           NaN\n",
       "1184          NaT 2012-09-19           NaN\n",
       "1886          NaT 2015-06-03           NaN\n",
       "809           NaT 2012-08-13           NaN\n",
       "1855          NaT 2015-09-24           NaN\n",
       "1814          NaT 2011-04-25           NaN"
      ]
     },
     "execution_count": 44,
     "metadata": {},
     "output_type": "execute_result"
    }
   ],
   "source": [
    "data.loc[(data[\"start_review\"] < 0) | (data.start_review.isnull()),\n",
    "         [\"first_review\", \"host_since\", \"start_review\"]].sample(20)"
   ]
  },
  {
   "cell_type": "code",
   "execution_count": 45,
   "metadata": {},
   "outputs": [],
   "source": [
    "# fill missing value\n",
    "data[['start_review', 'latest_review']] = \\\n",
    "    data[['start_review', 'latest_review']].fillna(0)"
   ]
  },
  {
   "cell_type": "code",
   "execution_count": 46,
   "metadata": {},
   "outputs": [
    {
     "data": {
      "image/png": "[encoded data removed]",
      "text/plain": [
       "<Figure size 576x576 with 4 Axes>"
      ]
     },
     "metadata": {
      "needs_background": "light"
     },
     "output_type": "display_data"
    }
   ],
   "source": [
    "pd.plotting.scatter_matrix(data[[\"start_review\", \"latest_review\"]], figsize=(8, 8));"
   ]
  },
  {
   "cell_type": "code",
   "execution_count": 47,
   "metadata": {},
   "outputs": [],
   "source": [
    "amenities_set = set()\n",
    "for i in df.amenities:\n",
    "    if pd.notnull(i):\n",
    "        amenities_set |= set(i.split(\",\"))\n",
    "\n",
    "# remove the element Internet\n",
    "amenities_set.remove(\"Internet\")"
   ]
  },
  {
   "cell_type": "code",
   "execution_count": 48,
   "metadata": {},
   "outputs": [],
   "source": [
    "# parse the amenity \n",
    "for amenity in amenities_set:\n",
    "    data[\"amenity_availible_\" + amenity] = \\\n",
    "        data[\"amenities\"].apply(\n",
    "            lambda x: False if pd.isnull(x) else True if amenity in x else False\n",
    "        )\n",
    "    "
   ]
  },
  {
   "cell_type": "markdown",
   "metadata": {},
   "source": [
    "#### Parse Extra information\n",
    "As we see the information about the fields chosen, there are some information need to be parsed, like amenities and the review date\n",
    "\n",
    "1. caculate how many daies between the hosts start and the first review date, and caculate how many daies between the latest review and the scraped date. But there are some negative values about the start_review, which is unreasonable. The field start review need to delete\n",
    "2. parse the amenities information from the amenities field\n",
    "3. there are some category object left that need to parse"
   ]
  },
  {
   "cell_type": "code",
   "execution_count": 49,
   "metadata": {},
   "outputs": [],
   "source": [
    "data[\"host_id\"] = data[\"host_id\"].astype(\"category\")"
   ]
  },
  {
   "cell_type": "code",
   "execution_count": 50,
   "metadata": {},
   "outputs": [
    {
     "name": "stdout",
     "output_type": "stream",
     "text": [
      "<class 'pandas.core.frame.DataFrame'>\n",
      "RangeIndex: 3816 entries, 0 to 3815\n",
      "Data columns (total 84 columns):\n",
      "host_id                                         3816 non-null category\n",
      "host_since                                      3816 non-null datetime64[ns]\n",
      "host_response_rate                              3816 non-null float16\n",
      "host_is_superhost                               3816 non-null bool\n",
      "host_total_listings_count                       3816 non-null float64\n",
      "host_identity_verified                          3816 non-null bool\n",
      "neighbourhood_group_cleansed                    3816 non-null object\n",
      "zipcode                                         3816 non-null category\n",
      "latitude                                        3816 non-null float64\n",
      "longitude                                       3816 non-null float64\n",
      "is_location_exact                               3816 non-null bool\n",
      "property_type                                   3816 non-null object\n",
      "room_type                                       3816 non-null object\n",
      "accommodates                                    3816 non-null int64\n",
      "bathrooms                                       3816 non-null float64\n",
      "bedrooms                                        3816 non-null float64\n",
      "beds                                            3816 non-null float64\n",
      "bed_type                                        3816 non-null object\n",
      "amenities                                       3771 non-null object\n",
      "price                                           3816 non-null float32\n",
      "weekly_price                                    3816 non-null float32\n",
      "monthly_price                                   3816 non-null float32\n",
      "security_deposit                                3816 non-null float32\n",
      "cleaning_fee                                    3816 non-null float32\n",
      "guests_included                                 3816 non-null int64\n",
      "extra_people                                    3816 non-null float32\n",
      "minimum_nights                                  3816 non-null int64\n",
      "maximum_nights                                  3816 non-null int64\n",
      "has_availability                                3816 non-null bool\n",
      "availability_365                                3816 non-null int64\n",
      "calendar_last_scraped                           3816 non-null datetime64[ns]\n",
      "number_of_reviews                               3816 non-null int64\n",
      "first_review                                    3191 non-null datetime64[ns]\n",
      "last_review                                     3191 non-null datetime64[ns]\n",
      "review_scores_rating                            3816 non-null float64\n",
      "instant_bookable                                3816 non-null bool\n",
      "cancellation_policy                             3816 non-null object\n",
      "reviews_per_month                               3816 non-null float64\n",
      "amenities_total                                 3816 non-null int64\n",
      "host_seattle                                    3816 non-null bool\n",
      "host_verifications_total                        3816 non-null int64\n",
      "host_since_period                               3816 non-null int64\n",
      "start_review                                    3816 non-null float64\n",
      "latest_review                                   3816 non-null float64\n",
      "amenity_availible_Free Parking on Premises      3816 non-null bool\n",
      "amenity_availible_Hangers                       3816 non-null bool\n",
      "amenity_availible_Pool                          3816 non-null bool\n",
      "amenity_availible_Shampoo                       3816 non-null bool\n",
      "amenity_availible_Smoke Detector                3816 non-null bool\n",
      "amenity_availible_Indoor Fireplace              3816 non-null bool\n",
      "amenity_availible_Wireless Internet             3816 non-null bool\n",
      "amenity_availible_Hot Tub                       3816 non-null bool\n",
      "amenity_availible_Wheelchair Accessible         3816 non-null bool\n",
      "amenity_availible_Safety Card                   3816 non-null bool\n",
      "amenity_availible_Iron                          3816 non-null bool\n",
      "amenity_availible_Lock on Bedroom Door          3816 non-null bool\n",
      "amenity_availible_Elevator in Building          3816 non-null bool\n",
      "amenity_availible_Carbon Monoxide Detector      3816 non-null bool\n",
      "amenity_availible_Buzzer/Wireless Intercom      3816 non-null bool\n",
      "amenity_availible_Washer                        3816 non-null bool\n",
      "amenity_availible_Pets live on this property    3816 non-null bool\n",
      "amenity_availible_Fire Extinguisher             3816 non-null bool\n",
      "amenity_availible_Laptop Friendly Workspace     3816 non-null bool\n",
      "amenity_availible_Suitable for Events           3816 non-null bool\n",
      "amenity_availible_Dryer                         3816 non-null bool\n",
      "amenity_availible_Family/Kid Friendly           3816 non-null bool\n",
      "amenity_availible_Cat(s)                        3816 non-null bool\n",
      "amenity_availible_Pets Allowed                  3816 non-null bool\n",
      "amenity_availible_Hair Dryer                    3816 non-null bool\n",
      "amenity_availible_Kitchen                       3816 non-null bool\n",
      "amenity_availible_First Aid Kit                 3816 non-null bool\n",
      "amenity_availible_24-Hour Check-in              3816 non-null bool\n",
      "amenity_availible_Heating                       3816 non-null bool\n",
      "amenity_availible_Other pet(s)                  3816 non-null bool\n",
      "amenity_availible_Cable TV                      3816 non-null bool\n",
      "amenity_availible_Essentials                    3816 non-null bool\n",
      "amenity_availible_TV                            3816 non-null bool\n",
      "amenity_availible_Gym                           3816 non-null bool\n",
      "amenity_availible_Washer / Dryer                3816 non-null bool\n",
      "amenity_availible_Smoking Allowed               3816 non-null bool\n",
      "amenity_availible_Dog(s)                        3816 non-null bool\n",
      "amenity_availible_Air Conditioning              3816 non-null bool\n",
      "amenity_availible_Breakfast                     3816 non-null bool\n",
      "amenity_availible_Doorman                       3816 non-null bool\n",
      "dtypes: bool(46), category(2), datetime64[ns](4), float16(1), float32(6), float64(10), int64(9), object(6)\n",
      "memory usage: 1.2+ MB\n"
     ]
    }
   ],
   "source": [
    "data.info()"
   ]
  },
  {
   "cell_type": "code",
   "execution_count": 51,
   "metadata": {},
   "outputs": [
    {
     "data": {
      "image/png": "[encoded data removed]",
      "text/plain": [
       "<Figure size 864x648 with 2 Axes>"
      ]
     },
     "metadata": {
      "needs_background": "light"
     },
     "output_type": "display_data"
    }
   ],
   "source": [
    "plt.figure(figsize=(12, 9))\n",
    "ax = plt.subplot()\n",
    "sns.heatmap(data.select_dtypes(\"number\").corr(), ax=ax)\n",
    "ax.tick_params(axis=\"x\", labelrotation=90)"
   ]
  },
  {
   "cell_type": "markdown",
   "metadata": {},
   "source": [
    "According to the heatmap plot, there are some field high relationship, like price, weekly_price, monthly_price, accommodates, cleaning_fee. So create some new features to select.Now we need delete the category fields and drop unnecessary fields.\n",
    "\n",
    "Next step, we'll use the **SelectPercentile** method to select the top 30 features to create model. And to measure the model generalization, split some data into test dataset."
   ]
  },
  {
   "cell_type": "code",
   "execution_count": 52,
   "metadata": {},
   "outputs": [],
   "source": [
    "data[\"price_per_accomodate\"] = data[\"accommodates\"] / data[\"price\"]\n",
    "data[\"all_beds\"] = data[[\"beds\", \"bedrooms\"]].sum(axis=1)"
   ]
  },
  {
   "cell_type": "code",
   "execution_count": 53,
   "metadata": {},
   "outputs": [],
   "source": [
    "object_columns = [\"neighbourhood_group_cleansed\", \"property_type\", \"room_type\", \"bed_type\", \"cancellation_policy\"]\n",
    "data = pd.concat([data, preprocess.dummy_variables(data, object_columns)[0]], axis=1)"
   ]
  },
  {
   "cell_type": "code",
   "execution_count": 54,
   "metadata": {},
   "outputs": [],
   "source": [
    "# drop the category fields\n",
    "data.drop(data.select_dtypes(\"object\").columns, axis=1, inplace=True)"
   ]
  },
  {
   "cell_type": "code",
   "execution_count": 55,
   "metadata": {},
   "outputs": [],
   "source": [
    "data.drop(\n",
    "    [\"weekly_price\", \"monthly_price\", \"beds\", \"bedrooms\", \"host_id\",\n",
    "     \"accommodates\", \"first_review\", \"host_since\", \"instant_bookable\",\n",
    "     \"calendar_last_scraped\", \"last_review\", \"has_availability\", \"start_review\"],\n",
    "    axis=1, inplace=True\n",
    ")"
   ]
  },
  {
   "cell_type": "code",
   "execution_count": 56,
   "metadata": {},
   "outputs": [],
   "source": [
    "# select the fields\n",
    "features = SelectPercentile(f_regression, percentile=30)\n",
    "data_selected = features.fit_transform(data.drop(\"number_of_reviews\", axis=1), data[\"number_of_reviews\"])\n"
   ]
  },
  {
   "cell_type": "code",
   "execution_count": 57,
   "metadata": {},
   "outputs": [],
   "source": [
    "feature_result = dict()\n",
    "for key, value in zip(data.columns, features.scores_):\n",
    "    feature_result[key] = value\n",
    "    feature_result = pd.Series(feature_result, name=\"feature_select_score\")\n",
    "#     feature_result.append((key, value))\n",
    "    \n",
    "# feature_result = pd.DataFrame(feature_result, columns=[\"feature\", \"score\"])"
   ]
  },
  {
   "cell_type": "code",
   "execution_count": 58,
   "metadata": {},
   "outputs": [],
   "source": [
    "important_feature_result = feature_result[feature_result > feature_result.quantile(0.7)]"
   ]
  },
  {
   "cell_type": "code",
   "execution_count": 59,
   "metadata": {},
   "outputs": [
    {
     "data": {
      "text/plain": [
       "review_scores_rating                          2021.922861\n",
       "host_is_superhost                              280.694072\n",
       "host_verifications_total                       262.030707\n",
       "cleaning_fee                                   103.708932\n",
       "amenity_availible_Buzzer/Wireless Intercom      78.193919\n",
       "property_type_Bungalow                          74.774088\n",
       "bed_type_Real Bed                               65.734560\n",
       "price                                           60.125481\n",
       "amenities_total                                 57.755448\n",
       "is_location_exact                               50.484456\n",
       "host_since_period                               48.729683\n",
       "price_per_accomodate                            41.215697\n",
       "host_seattle                                    41.209981\n",
       "amenity_availible_Pool                          39.542306\n",
       "host_identity_verified                          36.371498\n",
       "bathrooms                                       34.510116\n",
       "availability_365                                33.899093\n",
       "maximum_nights                                  25.583042\n",
       "amenity_availible_Washer                        24.828392\n",
       "amenity_availible_Smoking Allowed               23.222579\n",
       "amenity_availible_Indoor Fireplace              23.005391\n",
       "property_type_Yurt                              22.547367\n",
       "amenity_availible_Hair Dryer                    22.528649\n",
       "amenity_availible_24-Hour Check-in              21.966441\n",
       "host_response_rate                              21.909233\n",
       "amenity_availible_Kitchen                       19.617193\n",
       "amenity_availible_Suitable for Events           19.600922\n",
       "amenity_availible_TV                            18.469676\n",
       "amenity_availible_Lock on Bedroom Door          17.137704\n",
       "security_deposit                                15.772445\n",
       "property_type_House                             15.156773\n",
       "amenity_availible_Family/Kid Friendly           15.103937\n",
       "Name: feature_select_score, dtype: float64"
      ]
     },
     "execution_count": 59,
     "metadata": {},
     "output_type": "execute_result"
    }
   ],
   "source": [
    "important_feature_result.sort_values(ascending=False)"
   ]
  },
  {
   "cell_type": "code",
   "execution_count": 60,
   "metadata": {},
   "outputs": [
    {
     "data": {
      "text/plain": [
       "<module 'preprocess' from '../tool/preprocess.py'>"
      ]
     },
     "execution_count": 60,
     "metadata": {},
     "output_type": "execute_result"
    }
   ],
   "source": [
    "from imp import reload\n",
    "reload(preprocess)"
   ]
  },
  {
   "cell_type": "code",
   "execution_count": 61,
   "metadata": {},
   "outputs": [],
   "source": [
    "# use kfold to measure linear model repeatly\n",
    "lm = LinearRegression()\n",
    "ss = ShuffleSplit(n_splits=5, test_size=0.3, random_state=0)\n",
    "\n",
    "lm_score = []\n",
    "\n",
    "for train_index, test_index in ss.split(data):\n",
    "    train_X = data_selected[train_index, :]\n",
    "    test_X = data_selected[test_index, :]\n",
    "    train_y = data[\"number_of_reviews\"][train_index]\n",
    "    test_y = data[\"number_of_reviews\"][test_index]\n",
    "    \n",
    "    lm.fit(train_X, train_y)\n",
    "    \n",
    "    lm_score.append((lm.score(test_X, test_y), mean_squared_error(test_y, lm.predict(test_X))))\n",
    "\n",
    "\n",
    "lm_score = pd.DataFrame(lm_score, columns=[\"r2\", \"mse\"])"
   ]
  },
  {
   "cell_type": "code",
   "execution_count": 62,
   "metadata": {},
   "outputs": [
    {
     "data": {
      "text/html": [
       "<p style='font: italic 25px Fira Sans, serif;'>         <em>About the reviews:</em>         Basic LinearRegression r^2 score is 0.34. The mean squared error is 984.86      </p>"
      ]
     },
     "metadata": {},
     "output_type": "display_data"
    }
   ],
   "source": [
    "display.display_html(\n",
    "    \"<p style='font: italic 25px Fira Sans, serif;'> \\\n",
    "        <em>About the reviews:</em> \\\n",
    "        Basic LinearRegression r^2 score is {:.2f}. The mean squared error is {:.2f} \\\n",
    "     </p>\".format(lm_score.r2.mean(), lm_score.mse.mean()),\n",
    "    raw=True\n",
    ")\n"
   ]
  },
  {
   "cell_type": "markdown",
   "metadata": {},
   "source": [
    "#### BenchMark--Basic LinearRegression\n",
    "We want to know what is effect, when we use model tuning. So we need to create the benchmark that is linear model. The basic linear regression result is not perfet, the $R^2$ score is 0.34, and MSE score is 984.86. Now, we use the DecisionTree to create the regresssion model, so that we can analyse the importance of the features."
   ]
  },
  {
   "cell_type": "code",
   "execution_count": 63,
   "metadata": {},
   "outputs": [],
   "source": [
    "# split the dataset\n",
    "train_X, test_X, train_y, test_y = \\\n",
    "    train_test_split(\n",
    "        data_selected, data[\"number_of_reviews\"], \n",
    "        test_size=0.3, random_state=42, \n",
    ")"
   ]
  },
  {
   "cell_type": "code",
   "execution_count": 64,
   "metadata": {},
   "outputs": [
    {
     "data": {
      "text/plain": [
       "GridSearchCV(cv=2, error_score='raise-deprecating',\n",
       "       estimator=RandomForestRegressor(bootstrap=True, criterion='mse', max_depth=None,\n",
       "           max_features='auto', max_leaf_nodes=None,\n",
       "           min_impurity_decrease=0.0, min_impurity_split=None,\n",
       "           min_samples_leaf=1, min_samples_split=2,\n",
       "           min_weight_fraction_leaf=0.0, n_estimators='warn', n_jobs=4,\n",
       "           oob_score=False, random_state=42, verbose=0, warm_start=False),\n",
       "       fit_params=None, iid=False, n_jobs=None,\n",
       "       param_grid={'criterion': ['mse', 'mae'], 'n_estimators': [10, 14, 20], 'max_depth': [16, 20, 25, 30], 'min_samples_leaf': [2, 4], 'min_samples_split': [20, 30, 40]},\n",
       "       pre_dispatch='2*n_jobs', refit='mse', return_train_score='warn',\n",
       "       scoring={'mse': make_scorer(mean_squared_error, greater_is_better=False), 'r2': make_scorer(r2_score)},\n",
       "       verbose=0)"
      ]
     },
     "execution_count": 64,
     "metadata": {},
     "output_type": "execute_result"
    }
   ],
   "source": [
    "forest_reg = RandomForestRegressor(random_state=42, n_jobs=4)\n",
    "\n",
    "# search params\n",
    "parameters = {'criterion': ['gini', 'entropy'],\n",
    "              'n_estimators': [5, 10, 15, 20],\n",
    "              'max_depth': [8, 14, 20, 25, 50],\n",
    "              'min_samples_leaf':[2,4],\n",
    "              'min_samples_split': [20,30,40]}\n",
    "# make scoring\n",
    "score = {\n",
    "     \"mse\": make_scorer(mean_squared_error, greater_is_better=False),\n",
    "    \"r2\": make_scorer(r2_score, greater_is_better=True) \n",
    "}\n",
    "\n",
    "forest_reg = GridSearchCV(\n",
    "        forest_reg, param_grid=params, scoring=score, iid=False, cv=2, refit=\"mse\"\n",
    "    )\n",
    "\n",
    "# fit the data\n",
    "forest_reg.fit(train_X, train_y)"
   ]
  },
  {
   "cell_type": "code",
   "execution_count": 65,
   "metadata": {},
   "outputs": [
    {
     "data": {
      "text/plain": [
       "(0.7642603157232737, 334.9140594556805)"
      ]
     },
     "execution_count": 65,
     "metadata": {},
     "output_type": "execute_result"
    }
   ],
   "source": [
    "r2_score(train_y, forest_reg.predict(train_X)), mean_squared_error(train_y, forest_reg.predict(train_X))"
   ]
  },
  {
   "cell_type": "code",
   "execution_count": 66,
   "metadata": {},
   "outputs": [
    {
     "data": {
      "text/html": [
       "<p style='font: italic 25px Fira Sans, serif;'>         Decision Tree model,  r^2 score is 0.61. The mean squared error is 563.97      </p>"
      ]
     },
     "metadata": {},
     "output_type": "display_data"
    }
   ],
   "source": [
    "# pred_result = forest_reg.predict(tess)\n",
    "\n",
    "display.display_html(\n",
    "    \"<p style='font: italic 25px Fira Sans, serif;'> \\\n",
    "        Decision Tree model,  r^2 score is {:.2f}. The mean squared error is {:.2f} \\\n",
    "     </p>\".format(r2_score(test_y, forest_reg.predict(test_X)), \n",
    "    mean_squared_error(test_y, forest_reg.predict(test_X))),\n",
    "    raw=True\n",
    ")\n"
   ]
  },
  {
   "cell_type": "code",
   "execution_count": 67,
   "metadata": {},
   "outputs": [
    {
     "data": {
      "text/plain": [
       "RandomForestRegressor(bootstrap=True, criterion='mae', max_depth=20,\n",
       "           max_features='auto', max_leaf_nodes=None,\n",
       "           min_impurity_decrease=0.0, min_impurity_split=None,\n",
       "           min_samples_leaf=2, min_samples_split=20,\n",
       "           min_weight_fraction_leaf=0.0, n_estimators=14, n_jobs=4,\n",
       "           oob_score=False, random_state=42, verbose=0, warm_start=False)"
      ]
     },
     "execution_count": 67,
     "metadata": {},
     "output_type": "execute_result"
    }
   ],
   "source": [
    "forest_reg.best_estimator_"
   ]
  },
  {
   "cell_type": "markdown",
   "metadata": {},
   "source": [
    "#### DecisionTree Model\n",
    "As shown before, basic linear regresssion is not perfect. The regression can't fit the data well, and the MSE value is high. The next step is use decision tree to create model. Besides, we use **GridSearchCV** to tuning the model.We get the best estimetor is \n",
    "\n",
    "```\n",
    "RandomForestRegressor(bootstrap=True, criterion='mae', max_depth=20,\n",
    "           max_features='auto', max_leaf_nodes=None,\n",
    "           min_impurity_decrease=0.0, min_impurity_split=None,\n",
    "           min_samples_leaf=4, min_samples_split=20,\n",
    "           min_weight_fraction_leaf=0.0, n_estimators=10, n_jobs=4,\n",
    "           oob_score=False, random_state=42, verbose=0, warm_start=False)\n",
    "```\n",
    "\n",
    "Now, we'll analyse the feature importance result"
   ]
  },
  {
   "cell_type": "code",
   "execution_count": 68,
   "metadata": {},
   "outputs": [],
   "source": [
    "feature_reg_result = dict()\n",
    "for key, value in zip(important_feature_result.index, forest_reg.best_estimator_.feature_importances_):\n",
    "    feature_reg_result[key] = value\n",
    "    feature_reg_result = pd.Series(feature_reg_result, name=\"forest_score\").sort_values(ascending=False)\n"
   ]
  },
  {
   "cell_type": "code",
   "execution_count": 69,
   "metadata": {},
   "outputs": [],
   "source": [
    "feature_report = pd.concat([important_feature_result, feature_reg_result], axis=1, sort=False, )\n",
    "feature_report.reset_index(inplace=True)\n",
    "feature_report.rename({\"index\":\"feature\"}, inplace=True, axis=1)\n",
    "# feature_report[\"forest_score\"] = feature_report[\"forest_score\"] * -1"
   ]
  },
  {
   "cell_type": "code",
   "execution_count": 70,
   "metadata": {},
   "outputs": [
    {
     "data": {
      "image/png": "[encoded data removed]",
      "text/plain": [
       "<Figure size 864x533.952 with 1 Axes>"
      ]
     },
     "metadata": {
      "needs_background": "light"
     },
     "output_type": "display_data"
    }
   ],
   "source": [
    "# feature importance\n",
    "plt.figure(figsize=(12, 12*0.618))\n",
    "ax = plt.subplot()\n",
    "sns.barplot(y=\"feature\", x=\"forest_score\", data=feature_report.nlargest(10, \"forest_score\"), ax=ax)\n",
    "ax.set_xlabel(\"\")\n",
    "ax.set_ylabel(\"\")\n",
    "ax.set_title(\"Top10 Important Features\", loc=\"left\", fontsize=20, family=\"monospace\")\n",
    "ax.tick_params(axis=\"y\", labelsize=16)\n",
    "ax.set_yticklabels(ax.get_yticklabels(), family=\"monospace\")\n",
    "ax.set_xticks([])\n",
    "\n",
    "for spine in [\"top\", \"right\", \"bottom\"]:\n",
    "    ax.spines[spine].set_visible(False)\n",
    "plt.show()"
   ]
  },
  {
   "cell_type": "code",
   "execution_count": 71,
   "metadata": {},
   "outputs": [
    {
     "data": {
      "text/plain": [
       "Index(['property_type_Bed & Breakfast', 'property_type_Boat',\n",
       "       'property_type_Bungalow', 'property_type_Cabin',\n",
       "       'property_type_Camper/RV', 'property_type_Chalet',\n",
       "       'property_type_Condominium', 'property_type_Dorm',\n",
       "       'property_type_House', 'property_type_Loft', 'property_type_Other',\n",
       "       'property_type_Tent', 'property_type_Townhouse',\n",
       "       'property_type_Treehouse', 'property_type_Yurt'],\n",
       "      dtype='object')"
      ]
     },
     "execution_count": 71,
     "metadata": {},
     "output_type": "execute_result"
    }
   ],
   "source": [
    "data.columns[data.columns.str.contains(\"property_type\")]"
   ]
  },
  {
   "cell_type": "code",
   "execution_count": 72,
   "metadata": {},
   "outputs": [
    {
     "data": {
      "text/plain": [
       "array(['Apartment', 'House', 'Cabin', 'Condominium', 'Camper/RV',\n",
       "       'Bungalow', 'Townhouse', 'Loft', 'Boat', 'Bed & Breakfast',\n",
       "       'Other', 'Dorm', 'Treehouse', 'Yurt', 'Chalet', 'Tent'],\n",
       "      dtype=object)"
      ]
     },
     "execution_count": 72,
     "metadata": {},
     "output_type": "execute_result"
    }
   ],
   "source": [
    "df.property_type.unique()"
   ]
  },
  {
   "cell_type": "markdown",
   "metadata": {},
   "source": [
    "After training the decision tree model, we get the new $R^2$ score 0.62, MSE score 548.61. The new model is better than basic linear model. Now we can analyse the important features. We choose the top 10 important features:\n",
    "\n",
    " - review_score_rating the rating rank concerns with the user experience. The high rating is, the more comfortable the house is. This is a clue when the travelers arrange the accommodation, the review_socre_rating is the prior factor\n",
    " - host_verification_total the feature is parsed from host_verification that contains a different type of the hosts' verification\n",
    " - host_since_period the feature is parsed from host_since. It can specify that how long the hosts run the business. The feature and host_verification_total can reflect that whether the hosts are professional\n",
    " - maximum_nights the feature is high relative to the travelers' arrangement. Of course, I recommend that put it into the factor\n",
    " \n",
    "Other factors need to be taken into account, like cleaning_fee, price, and host_is_superhost. One is concerned with the fee, the other is a certification by the Airbnb."
   ]
  },
  {
   "cell_type": "code",
   "execution_count": null,
   "metadata": {},
   "outputs": [],
   "source": []
  },
  {
   "cell_type": "code",
   "execution_count": null,
   "metadata": {},
   "outputs": [],
   "source": []
  }
 ],
 "metadata": {
  "kernelspec": {
   "display_name": "Python [conda env:anaconda3]",
   "language": "python",
   "name": "conda-env-anaconda3-py"
  },
  "language_info": {
   "codemirror_mode": {
    "name": "ipython",
    "version": 3
   },
   "file_extension": ".py",
   "mimetype": "text/x-python",
   "name": "python",
   "nbconvert_exporter": "python",
   "pygments_lexer": "ipython3",
   "version": "3.6.6"
  }
 },
 "nbformat": 4,
 "nbformat_minor": 2
}
